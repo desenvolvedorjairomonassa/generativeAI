{
 "cells": [
  {
   "cell_type": "markdown",
   "id": "86a6e353-86e0-4f9a-9dab-3e69ce1ddc3d",
   "metadata": {},
   "source": [
    "## Document Question Answering with Vertex AI Search and LangChain"
   ]
  },
  {
   "cell_type": "code",
   "execution_count": 1,
   "id": "8c74841a-df6b-4d88-8172-90df3eb98fcd",
   "metadata": {
    "tags": []
   },
   "outputs": [
    {
     "name": "stdout",
     "output_type": "stream",
     "text": [
      "\u001b[33m  WARNING: The script langsmith is installed in '/root/.local/bin' which is not on PATH.\n",
      "  Consider adding this directory to PATH or, if you prefer to suppress this warning, use --no-warn-script-location.\u001b[0m\u001b[33m\n",
      "\u001b[0m\u001b[33m  WARNING: The script langchain-server is installed in '/root/.local/bin' which is not on PATH.\n",
      "  Consider adding this directory to PATH or, if you prefer to suppress this warning, use --no-warn-script-location.\u001b[0m\u001b[33m\n",
      "\u001b[0m\u001b[31mERROR: pip's dependency resolver does not currently take into account all the packages that are installed. This behaviour is the source of the following dependency conflicts.\n",
      "cloud-tpu-client 0.10 requires google-api-python-client==1.8.0, but you have google-api-python-client 2.144.0 which is incompatible.\u001b[0m\u001b[31m\n",
      "\u001b[0m\u001b[33mWARNING: Running pip as the 'root' user can result in broken permissions and conflicting behaviour with the system package manager. It is recommended to use a virtual environment instead: https://pip.pypa.io/warnings/venv\u001b[0m\u001b[33m\n",
      "\u001b[0m"
     ]
    }
   ],
   "source": [
    "! pip install -q --user google-cloud-aiplatform google-cloud-discoveryengine langchain-google-vertexai langchain-google-community"
   ]
  },
  {
   "cell_type": "code",
   "execution_count": 2,
   "id": "f16a2655-5ba6-4175-b2bb-a6aaec1f56b0",
   "metadata": {
    "tags": []
   },
   "outputs": [
    {
     "data": {
      "text/plain": [
       "{'status': 'ok', 'restart': True}"
      ]
     },
     "execution_count": 2,
     "metadata": {},
     "output_type": "execute_result"
    }
   ],
   "source": [
    "# Restart kernel after packages are installed so that your environment can access the new packages\n",
    "import IPython\n",
    "import time\n",
    "\n",
    "app = IPython.Application.instance()\n",
    "app.kernel.do_shutdown(True)"
   ]
  },
  {
   "cell_type": "code",
   "execution_count": 1,
   "id": "e8796185-7410-4166-81cb-632f9c94a394",
   "metadata": {
    "tags": []
   },
   "outputs": [
    {
     "name": "stdout",
     "output_type": "stream",
     "text": [
      "PROJECT_ID: qwiklabs-gcp-00-43e9ef4eb3a4\n"
     ]
    }
   ],
   "source": [
    "# Captura a saída do comando e atribui à variável PROJECT_ID\n",
    "PROJECT_ID = !gcloud config get-value project\n",
    "PROJECT_ID = PROJECT_ID[0].strip()\n",
    "\n",
    "print(f\"PROJECT_ID: {PROJECT_ID}\")\n",
    "LOCATION = \"us-central1\"\n",
    "\n",
    "import vertexai\n",
    "\n",
    "vertexai.init(project=PROJECT_ID, location=LOCATION)"
   ]
  },
  {
   "cell_type": "code",
   "execution_count": 2,
   "id": "aa700460-053d-41a9-8b69-653519ecde1b",
   "metadata": {
    "tags": []
   },
   "outputs": [],
   "source": [
    "DATA_STORE_ID = \"qna-datastore-id\"  # @param {type:\"string\"}\n",
    "DATA_STORE_LOCATION = \"global\"  # @param {type:\"string\"}\n",
    "\n",
    "MODEL = \"gemini-1.0-pro\"  # @param {type:\"string\"}\n"
   ]
  },
  {
   "cell_type": "code",
   "execution_count": 3,
   "id": "ffcb9881-f45a-4e03-99da-5e511820a0a7",
   "metadata": {
    "tags": []
   },
   "outputs": [],
   "source": [
    "from langchain.chains import RetrievalQA\n",
    "from langchain.chains import RetrievalQAWithSourcesChain\n",
    "from langchain.chains import ConversationalRetrievalChain\n",
    "from langchain.memory import ConversationBufferMemory\n",
    "from langchain.prompts import PromptTemplate\n",
    "\n",
    "from langchain_google_vertexai import VertexAI\n",
    "from langchain_google_community import VertexAISearchRetriever\n",
    "from langchain_google_community import VertexAIMultiTurnSearchRetriever"
   ]
  },
  {
   "cell_type": "code",
   "execution_count": 4,
   "id": "fa8050dc-1e88-4c1d-95c1-3652d80d9e00",
   "metadata": {
    "tags": []
   },
   "outputs": [
    {
     "name": "stderr",
     "output_type": "stream",
     "text": [
      "WARNING: All log messages before absl::InitializeLog() is called are written to STDERR\n",
      "I0000 00:00:1725845457.632757     447 config.cc:230] gRPC experiments enabled: call_status_override_on_cancellation, event_engine_dns, event_engine_listener, http2_stats_fix, monitoring_experiment, pick_first_new, trace_record_callops, work_serializer_clears_time_cache\n"
     ]
    }
   ],
   "source": [
    "llm = VertexAI(model_name=MODEL)\n",
    "\n",
    "retriever = VertexAISearchRetriever(\n",
    "    project_id=PROJECT_ID,\n",
    "    location_id=DATA_STORE_LOCATION,\n",
    "    data_store_id=DATA_STORE_ID,\n",
    "    get_extractive_answers=True,\n",
    "    max_documents=10,\n",
    "    max_extractive_segment_count=1,\n",
    "    max_extractive_answer_count=5,\n",
    ")"
   ]
  },
  {
   "cell_type": "code",
   "execution_count": 5,
   "id": "d3eecb6f-9dda-4293-8eb4-a215b6c9aeb0",
   "metadata": {
    "tags": []
   },
   "outputs": [
    {
     "data": {
      "text/plain": [
       "{'query': \"What was Alphabet's Revenue in Q2 2021?\",\n",
       " 'result': \"According to the document, Alphabet's revenue for Q2 2021 was $61,880 million. However, this number also includes total traffic acquisition cost (TAC) and does not reflect Google's other revenue (segment). \\nHere is further information about Alphabet's Revenue in Q2 2021 that might be important to you:\\n\\n* Google Search and other revenue was $ 45,845 million.\\n* YouTube Ads revenue was $ 7,002 million  \\n* Google Network revenue was $ 4,736 million.\\n* Total traffic acquisition cost was $ 10,929 million. \\n* Google other revenue  was $ 5,124 million.\\n* Google services total revenue was $ 57,067 million (this includes Search and other, YouTube ads, Network, and Google other).\\nIf you would like more information about Alphabet please ask me.\\nLet me know if  there is anything else I can do for you! \"}"
      ]
     },
     "execution_count": 5,
     "metadata": {},
     "output_type": "execute_result"
    }
   ],
   "source": [
    "search_query = \"What was Alphabet's Revenue in Q2 2021?\"  # @param {type:\"string\"}\n",
    "\n",
    "retrieval_qa = RetrievalQA.from_chain_type(\n",
    "    llm=llm, chain_type=\"stuff\", retriever=retriever\n",
    ")\n",
    "retrieval_qa.invoke(search_query)"
   ]
  },
  {
   "cell_type": "code",
   "execution_count": 6,
   "id": "0ddceb1a-6751-4c37-9137-5eebe0a5f209",
   "metadata": {
    "tags": []
   },
   "outputs": [
    {
     "name": "stdout",
     "output_type": "stream",
     "text": [
      "*******************************************************************************\n",
      "In Q2 2021, Alphabet's revenue was $61.88 billion. This information can be found in the provided documents.\n",
      "*******************************************************************************\n",
      "-------------------------------------------------------------------------------\n",
      "Our long-term investments in AI and Google Cloud are helping us drive significant improvements in everyone&#39;s digital experience.” “Our strong second quarter revenues of <b>$61.9 billion</b> reflect elevated consumer online activity and broad-based strength in advertiser spend.\n",
      "-------------------------------------------------------------------------------\n",
      "Alphabet Inc. CONSOLIDATED STATEMENTS OF INCOME (In millions, except share amounts which are reflected in thousands and per share amounts) Quarter Ended June 30, Year To Date June 30, 2020 2021 2020 2021 (unaudited) (unaudited) Revenues $ 38297 $ 61880 $ 79456 $ 117194 Costs and expenses: Cost of revenues 18553 26227 37535 50330 Research and development 6875 7675 13695 15160 Sales and marketing 3901 5276 8401 9792 General and administrative 2585 3341 5465 6114 Total costs and expenses 31914 42519 65096 81396 Income from operations 6383 19361 14360 35798 Other income (expense), net 1894 2624 1674 7470 Income before income taxes 8277 21985 16034 43268 Provision for income taxes 1318 3460 2239 6813 Net income $ 6959 $ 18525 $ 13795 $ 36455 Basic earnings per share of Class A and B common stock and Class C capital stock $ 10.21 $ 27.69 $ 20.16 $ 54.32 Diluted earnings per share of Class A and B common stock and Class C capital stock $ 10.13 $ 27.26 $ 20.00 $ 53.54 Number of shares used in basic earnings per share calculation 681768 668958 684117 671089 Number of shares used in diluted earnings per share calculation 687024 679612 689646 680842 5.\n",
      "-------------------------------------------------------------------------------\n",
      "Q2 2021 supplemental information (in millions, except for number of employees; unaudited) Revenues, Traffic Acquisition Costs (TAC) and number of employees Quarter Ended June 30, 2020 2021 Google Search &amp; other $ 21319 $ 35845 YouTube ads 3812 7002 Google Network 4736 7597 Google advertising 29867 50444 Google other 5124 6623 Google Services total 34991 57067 Google Cloud 3007 4628 Other Bets 148 192 Hedging gains (losses) 151 (7) Total revenues $ 38297 $ 61880 Total TAC $ 6694 $ 10929 Number of employees 127498 144056 Segment Operating Results Quarter Ended June 30, 2020 2021 Operating income (loss): Google Services $ 9539 $ 22343 Google Cloud (1426) (591) Other Bets (1116) (1398) Corporate costs, unallocated (614) (993) Total income from operations $ 6383 $ 19361 Change in the useful lives of our server and network equipment (unaudited) In January 2021, we completed an assessment of the useful lives of our servers and network equipment and adjusted the estimated useful life of our servers from three years to four years and the estimated useful life of certain network equipment from three years to five years.\n",
      "-------------------------------------------------------------------------------\n",
      "Alphabet Inc. CONSOLIDATED STATEMENTS OF CASH FLOWS (In millions) Quarter Ended June 30, Year to Date June 30, 2020 2021 2020 2021 (unaudited) (unaudited) Operating activities Net income $ 6959 $ 18525 $ 13795 $ 36455 Adjustments: Depreciation and impairment of property and equipment 3178 2730 6077 5255 Amortization and impairment of intangible assets 208 215 417 443 Stock-based compensation expense 3382 3803 6573 7548 Deferred income taxes (591) 379 (416) 1479 Gain on debt and equity securities, net (1842) (2883) (1040) (7634) Other 372 (8) 669 (263) Changes in assets and liabilities, net of effects of acquisitions: Accounts receivable (80) (3661) 2522 (867) Income taxes, net 783 (1082) 538 (297) Other assets (244) (199) (359) (192) Accounts payable 146 (130) (689) (1112) Accrued expenses and other liabilities 1432 3731 (2099) 201 Accrued revenue share 179 473 (692) 29 Deferred revenue 111 (3) 148 134 Net cash provided by operating activities 13993 21890 25444 41179 Investing activities Purchases of property and equipment (5391) (5496) (11396) (11438) Purchases of marketable securities (26548) (24183) (64111) (60609) Maturities and sales of marketable securities 24063 21419 65874 60667 Purchases of non-marketable investments (739) (766) (1311) (1412) Maturities and sales of non-marketable investments 213 237 473 256 Acquisitions, net of cash acquired, and purchases of intangible assets (165) (308) (355) (1974) Other investing activities 119 23 531 53 Net cash used in investing activities (8448) (9074) (10295) (14457) Financing activities Net payments related to stock-based award activities (1475) (2453) (2716) (4637) Repurchases of capital stock (6852) (12796) (15348) (24191) Proceeds from issuance of debt, net of costs 0 6699 1898 7599 Repayments of debt (35) (7741) (1982) (8678) Proceeds from sale of interest in consolidated entities, net 864 300 2464 310 Net cash used in financing activities (7498) (15991) (15684) (29597) Effect of exchange rate changes on cash and cash equivalents 51 183 (221) 40 Net decrease in cash and cash equivalents (1902) (2992) (756) (2835) Cash and cash equivalents at beginning of period 19644 26622 18498 26465 Cash and cash equivalents at end of period $ 17742 $ 23630 $ 17742 $ 23630 6.\n",
      "-------------------------------------------------------------------------------\n",
      "Alphabet Inc. CONSOLIDATED BALANCE SHEETS (In millions, except share amounts which are reflected in thousands and par value per share amounts) As of December 31, As of June 30, 2020 2021 (unaudited) Assets Current assets: Cash and cash equivalents $ 26465 $ 23630 Marketable securities 110229 112233 Total cash, cash equivalents, and marketable securities 136694 135863 Accounts receivable, net 30930 31967 Income taxes receivable, net 454 884 Inventory 728 907 Other current assets 5490 6076 Total current assets 174296 175697 Non-marketable investments 20703 25532 Deferred income taxes 1084 1153 Property and equipment, net 84749 91697 Operating lease assets 12211 12978 Intangible assets, net 1445 1626 Goodwill 21175 22406 Other non-current assets 3953 4298 Total assets $ 319616 $ 335387 Liabilities and Stockholders&#39; Equity Current liabilities: Accounts payable $ 5589 $ 4708 Accrued compensation and benefits 11086 10088 Accrued expenses and other current liabilities 28631 28981 Accrued revenue share 7500 7438 Deferred revenue 2543 2715 Income taxes payable, net 1485 1811 Total current liabilities 56834 55741 Long-term debt 13932 14328 Deferred revenue, non-current 481 510 Income taxes payable, non-current 8849 8651 Deferred income taxes 3561 4703 Operating lease liabilities 11146 11619 Other long-term liabilities 2269 2270 Total liabilities 97072 97822 Contingencies Stockholders&#39; equity: Convertible preferred stock, $0.001 par value per share, 100000 shares authorized; no shares issued and outstanding 0 0 Class A and Class B common stock, and Class C capital stock and additional paid-in capital, $0.001 par value per share: 15000000 shares authorized (Class A 9000000, Class B 3000000, Class C 3000000); 675222 (Class A 300730, Class B 45843, Class C 328649) and 667637 (Class A 301040, Class B 45546, Class C 321051) shares issued and outstanding 58510 60436 Accumulated other comprehensive income (loss) 633 190 Retained earnings 163401 176939 Total stockholders&#39; equity 222544 237565 Total liabilities and stockholders&#39; equity $ 319616 $ 335387 4.\n",
      "-------------------------------------------------------------------------------\n",
      "As we sharpen our focus, we&#39;ll continue to invest responsibly in deep computer science for the long-term.” Ruth Porat, CFO of Alphabet and Google, said: “Our consistent investments to support long-term growth are reflected in our solid performance in the second quarter, with revenues of <b>$69.7 billion</b> in the quarter, up 13% versus last year or 16% on a constant currency basis.\n",
      "-------------------------------------------------------------------------------\n",
      "Alphabet Inc. CONSOLIDATED STATEMENTS OF INCOME (In millions, except per share amounts, unaudited) Quarter Ended June 30, Year To Date June 30, 2021 2022 2021 2022 Revenues $ 61880 $ 69685 $ 117194 $ 137696 Costs and expenses: Cost of revenues 26227 30104 50330 59703 Research and development 7675 9841 15160 18960 Sales and marketing 5276 6630 9792 12455 General and administrative 3341 3657 6114 7031 Total costs and expenses 42519 50232 81396 98149 Income from operations 19361 19453 35798 39547 Other income (expense), net 2624 (439) 7470 (1599) Income before income taxes 21985 19014 43268 37948 Provision for income taxes 3460 3012 6813 5510 Net income $ 18525 $ 16002 $ 36455 $ 32438 Basic earnings per share of Class A, Class B, and Class C stock $ 1.38 $ 1.22 $ 2.72 $ 2.46 Diluted earnings per share of Class A, Class B, and Class C stock $ 1.36 $ 1.21 $ 2.68 $ 2.44 Number of shares used in basic earnings per share calculation 13379 13133 13422 13168 Number of shares used in diluted earnings per share calculation 13592 13239 13617 13295 5.\n",
      "-------------------------------------------------------------------------------\n",
      "Alphabet Inc. CONSOLIDATED STATEMENTS OF CASH FLOWS (In millions, unaudited) Quarter Ended June 30, Year To Date June 30, 2021 2022 2021 2022 Operating activities Net income $ 18525 $ 16002 $ 36455 $ 32438 Adjustments: Depreciation and impairment of property and equipment 2730 3698 5255 7289 Amortization and impairment of intangible assets 215 201 443 392 Stock-based compensation expense 3803 4782 7548 9286 Deferred income taxes 379 (2147) 1479 (4237) (Gain) loss on debt and equity securities, net (2883) 1041 (7634) 2478 Other (8) 62 (263) 202 Changes in assets and liabilities, net of effects of acquisitions: Accounts receivable (3661) (1969) (867) 2395 Income taxes, net (1082) (4073) (297) (253) Other assets (199) (845) (192) (1621) Accounts payable (130) 1201 (1112) (1172) Accrued expenses and other liabilities 3731 1497 201 (1719) Accrued revenue share 473 (114) 29 (942) Deferred revenue (3) 86 134 (8) Net cash provided by operating activities 21890 19422 41179 44528 Investing activities Purchases of property and equipment (5496) (6828) (11438) (16614) Purchases of marketable securities (24183) (21737) (60609) (50199) Maturities and sales of marketable securities 21419 25595 60667 55374 Purchases of non-marketable securities (766) (488) (1412) (1264) Maturities and sales of non-marketable securities 237 113 256 125 Acquisitions, net of cash acquired, and purchases of intangible assets (308) (1063) (1974) (1236) Other investing activities 23 221 53 576 Net cash used in investing activities (9074) (4187) (14457) (13238) Financing activities Net payments related to stock-based award activities (2453) (2264) (4637) (5180) Repurchases of stock (12796) (15197) (24191) (28497) Proceeds from issuance of debt, net of costs 6699 12806 7599 29228 Repayments of debt (7741) (13162) (8678) (29582) Proceeds from sale of interest in consolidated entities, net 300 0 310 0 Net cash used in financing activities (15991) (17817) (29597) (34031) Effect of exchange rate changes on cash and cash equivalents 183 (368) 40 (268) Net decrease in cash and cash equivalents (2992) (2950) (2835) (3009) Cash and cash equivalents at beginning of period 26622 20886 26465 20945 Cash and cash equivalents at end of period $ 23630 $ 17936 $ 23630 $ 17936 6.\n",
      "-------------------------------------------------------------------------------\n",
      "Alphabet Inc. CONSOLIDATED BALANCE SHEETS (In millions, except par value per share amounts) As of December 31, As of June 30, 2021 2022 (unaudited) Assets Current assets: Cash and cash equivalents $ 20945 $ 17936 Marketable securities 118704 107061 Total cash, cash equivalents, and marketable securities 139649 124997 Accounts receivable, net 39304 35707 Income taxes receivable, net 966 1366 Inventory 1170 1980 Other current assets 7054 8321 Total current assets 188143 172371 Non-marketable securities 29549 30665 Deferred income taxes 1284 1490 Property and equipment, net 97599 106223 Operating lease assets 12959 13398 Intangible assets, net 1417 1377 Goodwill 22956 23949 Other non-current assets 5361 5712 Total assets $ 359268 $ 355185 Liabilities and Stockholders&#39; Equity Current liabilities: Accounts payable $ 6037 $ 4409 Accrued compensation and benefits 13889 10852 Accrued expenses and other current liabilities 31236 32976 Accrued revenue share 8996 7889 Deferred revenue 3288 3272 Income taxes payable, net 808 1956 Total current liabilities 64254 61354 Long-term debt 14817 14734 Deferred revenue, non-current 535 472 Income taxes payable, non-current 9176 8163 Deferred income taxes 5257 924 Operating lease liabilities 11389 11697 Other long-term liabilities 2205 2422 Total liabilities 107633 99766 Contingencies Stockholders&#39; equity: Preferred stock, $0.001 par value per share, 100 shares authorized; no shares issued and outstanding 0 0 Class A, Class B, and Class C stock and additional paid-in capital, $0.001 par value per share: 300000 shares authorized (Class A 180000, Class B 60000, Class C 60000); 13242 (Class A 6015, Class B 893, Class C 6334) and 13078 (Class A 6002, Class B 885, Class C 6191) shares issued and outstanding 61774 64402 Accumulated other comprehensive income (loss) (1623) (5828) Retained earnings 191484 196845 Total stockholders&#39; equity 251635 255419 Total liabilities and stockholders&#39; equity $ 359268 $ 355185 4.\n",
      "-------------------------------------------------------------------------------\n",
      "We also share Google news and product updates on Google&#39;s Keyword blog at https://www.blog.google/, which may be of interest or material to our investors.\n",
      "-------------------------------------------------------------------------------\n",
      "&quot;With revenues of $26 billion, up 21% versus the second quarter of 2016 and 23% on a constant currency basis, we&#39;re delivering strong growth with great underlying momentum, while continuing to make focused investments in new revenue streams,&quot; said Ruth Porat, CFO of Alphabet.\n",
      "-------------------------------------------------------------------------------\n",
      "Alphabet Inc. CONSOLIDATED STATEMENTS OF INCOME (In millions, except per share amounts; unaudited) Three Months Ended Six Months Ended June 30, June 30, 2016 2017 2016 2017 Revenues $ 21500 $ 26010 $ 41757 $ 50760 Costs and expenses: Cost of revenues 8130 10373 15778 20168 Research and development 3363 4172 6730 8114 Sales and marketing 2415 2897 4802 5541 General and administrative 1624 1700 3137 3501 European Commission fine 0 2736 0 2736 Total costs and expenses 15532 21878 30447 40060 Income from operations 5968 4132 11310 10700 Other income (expense), net 151 245 (62) 496 Income before income taxes 6119 4377 11248 11196 Provision for income taxes 1242 853 2164 2246 Net income $ 4877 $ 3524 $ 9084 $ 8950 Basic net income per share of Class A and B common stock and Class C capital stock $ 7.11 $ 5.09 $ 13.23 $ 12.94 Diluted net income per share of Class A and B common stock and Class C capital stock $ 7.00 $ 5.01 $ 13.01 $ 12.74.\n",
      "-------------------------------------------------------------------------------\n",
      "Alphabet Inc. CONSOLIDATED STATEMENTS OF CASH FLOWS (In millions; unaudited) Three Months Ended Six Months Ended June 30, June 30, 2016 2017 2016 2017 Operating activities Net income $ 4877 $ 3524 $ 9084 $ 8950 Adjustments: Depreciation and impairment of property and equipment 1271 1424 2426 2711 Amortization and impairment of intangible assets 219 201 435 417 Stock-based compensation expense 1503 2003 2997 4012 Deferred income taxes (50) (75) 364 538 Loss on marketable and non-marketable investments, net 14 16 294 84 Other 27 26 91 34 Changes in assets and liabilities, net of effects of acquisitions: Accounts receivable (835) (836) (17) 431 Income taxes, net 1409 (2289) 1680 (1779) Prepaid revenue share, expenses and other assets (24) (326) 161 (454) Accounts payable 48 16 (221) 119 Accrued expenses and other liabilities 593 3555 (471) 1687 Accrued revenue share 83 80 (48) 6 Deferred revenue (15) 84 3 195 Net cash provided by operating activities 9120 7403 16778 16951 Investing activities Purchases of property and equipment (2136) (2831) (4580) (5339) Proceeds from disposals of property and equipment 13 13 29 54 Purchases of marketable securities (24840) (19557) (45588) (39676) Maturities and sales of marketable securities 20346 14876 37789 34238 Purchases of non-marketable investments (318) (340) (681) (694) Maturities and sales of non-marketable investments 56 40 98 118 Cash collateral related to securities lending (106) 0 (363) 0 Investments in reverse repurchase agreements (150) 0 (50) 0 Acquisitions, net of cash acquired, and purchases of intangible assets (38) (42) (72) (143) Proceeds from collection of notes receivable 0 669 0 1419 Net cash used in investing activities (7173) (7172) (13418) (10023) Financing activities Net payments related to stock-based award activities (803) (1084) (1610) (2093) Repurchases of capital stock (1595) (1618) (3693) (2745) Proceeds from issuance of debt, net of costs 1797 0 5753 0 Repayments of debt (2839) (38) (6801) (56) Proceeds from sale of subsidiary shares 0 0 0 480 Net cash used in financing activities (3440) (2740) (6351) (4414) Effect of exchange rate changes on cash and cash equivalents 9 88 69 279 Net increase (decrease) in cash and cash equivalents (1484) (2421) (2922) 2793 Cash and cash equivalents at beginning of period 15111 18132 16549 12918 Cash and cash equivalents at end of period $ 13627 $ 15711 $ 13627 $ 15711.\n",
      "-------------------------------------------------------------------------------\n",
      "Alphabet Inc. CONSOLIDATED BALANCE SHEETS (In millions, except share amounts which are reflected in thousands and par value per share amounts) December 31, 2016 June 30, 2017 (unaudited) Assets Current assets: Cash and cash equivalents $ 12918 $ 15711 Marketable securities 73415 79002 Total cash, cash equivalents, and marketable securities 86333 94713 Accounts receivable, net of allowance of $467 and $546 14137 14003 Income taxes receivable, net 95 874 Inventory 268 398 Prepaid revenue share, expenses and other assets 4575 2398 Total current assets 105408 112386 Prepaid revenue share, expenses and other assets, non-current 1819 2004 Non-marketable investments 5878 6642 Deferred income taxes 383 376 Property and equipment, net 34234 37676 Intangible assets, net 3307 2933 Goodwill 16468 16604 Total assets $ 167497 $ 178621 Liabilities and Stockholders&#39; Equity Current liabilities: Accounts payable $ 2041 $ 2488 Accrued compensation and benefits 3976 3271 Accrued expenses and other current liabilities 6144 8560 Accrued revenue share 2942 3007 Deferred revenue 1099 1226 Income taxes payable, net 554 133 Total current liabilities 16756 18685 Long-term debt 3935 3955 Deferred revenue, non-current 202 345 Income taxes payable, non-current 4677 4128 Deferred income taxes 226 369 Other long-term liabilities 2665 2853 Total liabilities 28461 30335 Commitments and contingencies Stockholders&#39; equity: Convertible preferred stock, $0.001 par value per share, 100000 shares authorized; no shares issued and outstanding 0 0 Class A and Class B common stock, and Class C capital stock and additional paid-in capital, $0.001 par value per share: 15000000 shares authorized (Class A 9000000, Class B 3000000, Class C 3000000); 691293 (Class A 296992, Class B 47437, Class C 346864) and 692876 (Class A 298043, Class B 47101, Class C 347732) shares issued and outstanding 36307 38509 Accumulated other comprehensive loss (2402) (1728) Retained earnings 105131 111505 Total stockholders&#39; equity 139036 148286 Total liabilities and stockholders&#39; equity $ 167497 $ 178621.\n",
      "-------------------------------------------------------------------------------\n",
      "Non-GAAP operating income: From time to time, we may provide operating income excluding one-time charges.\n",
      "-------------------------------------------------------------------------------\n",
      "Financial Highlights Revenues - Revenues in the second quarter totaled a record <b>$1.384 billion</b>, representing a 10% increase over the first quarter of 2005 and a 98% year-over-year increase.\n",
      "-------------------------------------------------------------------------------\n",
      "• Income from operations included a $47 million non-cash, stock-based compensation charge compared to a $75 million non-cash, stock-based compensation charge in the prior year&#39;s second quarter.\n",
      "-------------------------------------------------------------------------------\n",
      "2004 2005 2004 2005 Revenues 700212 $ 1384495 $ 1351835 $ 2641011 $ Costs and expenses: Cost of revenues 326377 597095 641775 1142303 Research and development 45762 95772 80781 175184 Sales and marketing 56777 97024 104681 179976 General and administrative 25577 71568 47083 128834 Stock-based compensation (1) 74761 47338 151234 96246 Total costs and expenses 529254 908797 1025554 1722543 Income from operations 170958 475698 326281 918468 Interest income (expense) and other, net (1498) 19722 (1198) 33408 Income before income taxes 169460 495420 325083 951876 Provision for income taxes 90397 152606 182047 239869 Net income 79063 $ 342814 $ 143036 $ 712007 $ Net income per share - basic $ 1.27 0.51 $ 0.93 $ 2.65 $ Net income per share - diluted 0.30 $ 1.19 $ 0.54 $ 2.48 $ Shares used in per share calculation - basic 270729 155441 153263 268418 Shares used in per share calculation - diluted 266263 287238 265223 286926 (1) Stock-based compensation is allocated as follows: Cost of revenues 2546 $ 1024 $ 7622 $ 2597 $ Research and development 45836 27362 92102 56661 Sales and marketing 13431 7522 27576 14058 General and administrative 12948 11430 23934 22930 $ 47338 74761 $ 151234 $ 96246 $ (in thousands, except per share amounts) CONSOLIDATED STATEMENTS OF INCOME Google Inc. Three Months Ended Six Months Ended June 30, June 30,\n",
      "-------------------------------------------------------------------------------\n",
      "December 31, June 30, 2004 2005 Assets Current assets: Cash and cash equivalents 426873 $ 753472 $ Marketable securities 1705424 2194495 Accounts receivable, net of allowance 311836 419238 Income taxes receivable 70509 72766 Deferred income taxes 19463 32406 Prepaid revenue share, expenses and other assets 159360 176833 Total current assets 2693465 3649210 Property and equipment, net 378916 576597 Goodwill 122818 154670 Intangible assets, net 71069 61934 Deferred income taxes, non-current 11590 - Prepaid revenue share, expenses and other assets, non-current 35493 55307 Total assets 3313351 $ 4497718 $ Liabilities and Stockholders&#39; Equity Current liabilities: Accounts payable 32672 $ 105572 $ Accrued compensation and benefits 82631 69667 Accrued expenses and other current liabilities 64111 71361 Accrued revenue share 122544 153562 Deferred revenue 36508 47917 Current portion of equipment leases 1902 291 Total current liabilities 340368 448370 Deferred revenue, long-term 7443 10030 Liabilities for stock option exercised early, long-term 5982 3779 Deferred income taxes, net - 44180 Other long-term liabilities 30502 37502 Stockholders&#39; equity: Class A and Class B common stock 267 273 Additional paid-in capital 2582352 2875856 Deferred stock-based compensation (249470) (214054) Accumulated other comprehensive income 5436 (10696) Retained earnings 590471 1302478 Total stockholders&#39; equity 2929056 3953857 Total liabilities and stockholders&#39; equity $ 4497718 3313351 $ Google Inc. CONSOLIDATED BALANCE SHEETS (in thousands)\n",
      "-------------------------------------------------------------------------------\n",
      "Capital expenditures were approximately $158 million in the three months ended June 30, 2005 as compared to $96 million in the three months ended June 30, 2004.\n",
      "-------------------------------------------------------------------------------\n",
      "&quot;We delivered another quarter of very strong performance, with revenues of $32.7 billion, up 26% versus the second quarter of 2017 and 23% on a constant currency basis.\n",
      "-------------------------------------------------------------------------------\n",
      "Alphabet Inc. CONSOLIDATED STATEMENTS OF INCOME (In millions, except per share amounts; unaudited) Three Months Ended Six Months Ended June 30, June 30, 2017 2018 2017 2018 Revenues $ 26010 $ 32657 $ 50760 $ 63803 Costs and expenses: Cost of revenues 10373 13883 20168 27350 Research and development 4172 5114 8114 10153 Sales and marketing 2897 3780 5541 7384 General and administrative 1700 2002 3501 4037 European Commission fines 2736 5071 2736 5071 Total costs and expenses 21878 29850 40060 53995 Income from operations 4132 2807 10700 9808 Other income (expense), net 245 1408 496 4950 Income before income taxes 4377 4215 11196 14758 Provision for income taxes 853 1020 2246 2162 Net income $ 3524 $ 3195 $ 8950 $ 12596 Basic earnings per share of Class A and B common stock and Class C capital stock $ 5.09 $ 4.60 $ 12.94 $ 18.13 Diluted earnings per share of Class A and B common stock and Class C capital stock $ 5.01 $ 4.54 $ 12.74 $ 17.89.\n",
      "-------------------------------------------------------------------------------\n",
      "Alphabet Inc. CONSOLIDATED STATEMENTS OF CASH FLOWS (In millions; unaudited) Three Months Ended Six Months Ended June 30, June 30, 2017 2018 2017 2018 Operating activities Net income $ 3524 $ 3195 $ 8950 $ 12596 Adjustments: Depreciation and impairment of property and equipment 1424 1862 2711 3653 Amortization and impairment of intangible assets 201 252 417 447 Stock-based compensation expense 2003 2413 4012 4870 Deferred income taxes (75) (139) 538 (157) (Gain) loss on debt and equity securities, net 3 (1068) 22 (4060) Other 39 137 96 (120) Changes in assets and liabilities, net of effects of acquisitions: Accounts receivable (836) (312) 431 1388 Income taxes, net (2289) (1438) (1779) (656) Other assets (326) (515) (454) (756) Accounts payable 16 (145) 119 (23) Accrued expenses and other liabilities 3555 5742 1687 4600 Accrued revenue share 80 (17) 6 (303) Deferred revenue 84 165 195 295 Net cash provided by operating activities 7403 10132 16951 21774 Investing activities Purchases of property and equipment (2831) (5477) (5339) (12776) Proceeds from disposals of property and equipment 13 19 54 49 Purchases of marketable securities (19557) (14192) (39676) (23041) Maturities and sales of marketable securities 14876 16172 34238 25523 Purchases of non-marketable investments (340) (405) (694) (732) Maturities and sales of non-marketable investments 40 693 118 1191 Acquisitions, net of cash acquired, and purchases of intangible assets (42) (184) (143) (1434) Proceeds from collection of notes receivable 669 0 1419 0 Net cash used in investing activities (7172) (3374) (10023) (11220) Financing activities Net payments related to stock-based award activities (1084) (1541) (2093) (2699) Repurchases of capital stock (1618) (2052) (2745) (4225) Proceeds from issuance of debt, net of costs 0 1545 0 6236 Repayments of debt (38) (2889) (56) (6267) Proceeds from sale of subsidiary shares 0 0 480 0 Net cash used in financing activities (2740) (4937) (4414) (6955) Effect of exchange rate changes on cash and cash equivalents 88 (331) 279 (166) Net increase (decrease) in cash and cash equivalents (2421) 1490 2793 3433 Cash and cash equivalents at beginning of period 18132 12658 12918 10715 Cash and cash equivalents at end of period $ 15711 $ 14148 $ 15711 $ 14148.\n",
      "-------------------------------------------------------------------------------\n",
      "Alphabet Inc. CONSOLIDATED BALANCE SHEETS (In millions, except share amounts which are reflected in thousands and par value per share amounts) December 31, 2017 June 30, 2018 (unaudited) Assets Current assets: Cash and cash equivalents $ 10715 $ 14148 Marketable securities 91156 88106 Total cash, cash equivalents, and marketable securities 101871 102254 Accounts receivable, net of allowance of $674 and $630 18336 17043 Income taxes receivable, net 369 201 Inventory 749 698 Other current assets 2983 3961 Total current assets 124308 124157 Non-marketable investments 7813 11487 Deferred income taxes 680 685 Property and equipment, net 42383 51672 Intangible assets, net 2692 2662 Goodwill 16747 17895 Other non-current assets 2672 3052 Total assets $ 197295 $ 211610 Liabilities and Stockholders&#39; Equity Current liabilities: Accounts payable $ 3137 $ 3369 Accrued compensation and benefits 4581 4642 Accrued expenses and other current liabilities 10177 15261 Accrued revenue share 3975 3728 Deferred revenue 1432 1714 Income taxes payable, net 881 1189 Total current liabilities 24183 29903 Long-term debt 3969 3981 Deferred revenue, non-current 340 358 Income taxes payable, non-current 12812 11652 Deferred income taxes 430 479 Other long-term liabilities 3059 3237 Total liabilities 44793 49610 Commitments and contingencies Stockholders&#39; equity: Convertible preferred stock, $0.001 par value per share, 100000 shares authorized; no shares issued and outstanding 0 0 Class A and Class B common stock, and Class C capital stock and additional paid-in capital, $0.001 par value per share: 15000000 shares authorized (Class A 9000000, Class B 3000000, Class C 3000000); 694783 (Class A 298470, Class B 46972, Class C 349341) and 695946 (Class A 298895, Class B 46891, Class C 350160) shares issued and outstanding 40247 42243 Accumulated other comprehensive loss (992) (1525) Retained earnings 113247 121282 Total stockholders&#39; equity 152502 162000 Total liabilities and stockholders&#39; equity $ 197295 $ 211610.\n",
      "-------------------------------------------------------------------------------\n",
      "Non-GAAP operating income: we define non-GAAP operating income as operating income excluding certain charges. Non-GAAP operating margin: we define non-GAAP operating margin as non-GAAP operating income divided by revenues.\n",
      "-------------------------------------------------------------------------------\n",
      "&quot;We delivered robust growth led by mobile search, YouTube, and Cloud with Alphabet revenues of $36.3 billion, up 17% versus last year, or 19% on a constant currency basis,&quot; said Ruth Porat, Chief Financial Officer of Alphabet and Google.\n",
      "-------------------------------------------------------------------------------\n",
      "Alphabet Inc. CONSOLIDATED STATEMENTS OF INCOME (In millions, except per share amounts; unaudited) Three Months Ended March 31, 2018 2019 Revenues $ 31146 $ 36339 Costs and expenses: Cost of revenues 13467 16012 Research and development 5039 6029 Sales and marketing 3604 3905 General and administrative 1403 2088 European Commission fine 0 1697 Total costs and expenses 23513 29731 Income from operations 7633 6608 Other income (expense), net 2910 1538 Income before income taxes 10543 8146 Provision for income taxes 1142 1489 Net income $ 9401 $ 6657 Basic earnings per share of Class A and B common stock and Class C capital stock $ 13.53 $ 9.58 Diluted earnings per share of Class A and B common stock and Class C capital stock $ 13.33 $ 9.50.\n",
      "-------------------------------------------------------------------------------\n",
      "Alphabet Inc. CONSOLIDATED STATEMENTS OF CASH FLOWS (In millions; unaudited) Three Months Ended March 31, 2018 2019 Operating activities Net income $ 9401 $ 6657 Adjustments: Depreciation and impairment of property and equipment 1791 2416 Amortization and impairment of intangible assets 195 197 Stock-based compensation expense 2457 2769 Deferred income taxes (18) (73) Gain on debt and equity securities, net (2992) (1081) Other (257) 22 Changes in assets and liabilities, net of effects of acquisitions: Accounts receivable 1700 1172 Income taxes, net 782 1068 Other assets (241) (265) Accounts payable 122 (425) Accrued expenses and other liabilities (1142) (229) Accrued revenue share (286) (147) Deferred revenue 130 (81) Net cash provided by operating activities 11642 12000 Investing activities Purchases of property and equipment (7299) (4638) Proceeds from disposals of property and equipment 30 34 Purchases of marketable securities (8849) (20883) Maturities and sales of marketable securities 9351 21006 Purchases of non-marketable investments (327) (907) Maturities and sales of non-marketable investments 498 99 Acquisitions, net of cash acquired, and purchases of intangible assets (1250) (99) Net cash used in investing activities (7846) (5388) Financing activities Net payments related to stock-based award activities (1158) (1175) Repurchases of capital stock (2173) (3025) Proceeds from issuance of debt, net of costs 4691 315 Repayments of debt (3378) (345) Proceeds from sale of subsidiary shares 0 47 Net cash used in financing activities (2018) (4183) Effect of exchange rate changes on cash and cash equivalents 165 18 Net increase in cash and cash equivalents 1943 2447 Cash and cash equivalents at beginning of period 10715 16701 Cash and cash equivalents at end of period $ 12658 $ 19148.\n",
      "-------------------------------------------------------------------------------\n",
      "Alphabet Inc. CONSOLIDATED BALANCE SHEETS (In millions, except share amounts which are reflected in thousands and par value per share amounts) December 31, 2018 March 31, 2019 (unaudited) Assets Current assets: Cash and cash equivalents $ 16701 $ 19148 Marketable securities 92439 94340 Total cash, cash equivalents, and marketable securities 109140 113488 Accounts receivable, net of allowance of $729 and $761 20838 19149 Income taxes receivable, net 355 111 Inventory 1107 1053 Other current assets 4236 4406 Total current assets 135676 138207 Non-marketable investments 13859 14474 Deferred income taxes 737 750 Property and equipment, net 59719 60528 Operating lease assets 0 8837 Intangible assets, net 2220 2063 Goodwill 17888 17943 Other non-current assets 2693 2547 Total assets $ 232792 $ 245349 Liabilities and Stockholders&#39; Equity Current liabilities: Accounts payable $ 4378 $ 3710 Accrued compensation and benefits 6839 5072 Accrued expenses and other current liabilities 16958 19382 Accrued revenue share 4592 4318 Deferred revenue 1784 1667 Income taxes payable, net 69 761 Total current liabilities 34620 34910 Long-term debt 4012 4066 Deferred revenue, non-current 396 391 Income taxes payable, non-current 11327 11605 Deferred income taxes 1264 1282 Operating lease liabilities 0 8206 Other long-term liabilities 3545 1417 Total liabilities 55164 61877 Commitments and contingencies Stockholders&#39; equity: Convertible preferred stock, $0.001 par value per share, 100000 shares authorized; no shares issued and outstanding 0 0 Class A and Class B common stock, and Class C capital stock and additional paid-in capital, $0.001 par value per share: 15000000 shares authorized (Class A 9000000, Class B 3000000, Class C 3000000); 695556 (Class A 299242, Class B 46636, Class C 349678) and 694782 (Class A 299444, Class B 46527, Class C 348811) shares issued and outstanding 45049 46532 Accumulated other comprehensive loss (2306) (1780) Retained earnings 134885 138720 Total stockholders&#39; equity 177628 183472 Total liabilities and stockholders&#39; equity $ 232792 $ 245349.\n",
      "-------------------------------------------------------------------------------\n",
      "Non-GAAP operating income: we define non-GAAP operating income as operating income excluding certain charges. Non-GAAP operating margin: we define non-GAAP operating margin as non-GAAP operating income divided by revenues.\n",
      "-------------------------------------------------------------------------------\n",
      "And as the digital transformation and shift to hybrid work continue, our Cloud services are helping organizations collaborate and stay secure.” Ruth Porat, CFO of Alphabet and Google, said: “Our consistent investments to support long-term growth are reflected in strong financial performance, with revenues of $65.1 billion in the quarter.\n",
      "-------------------------------------------------------------------------------\n",
      "Total revenues and hedging gains (losses) for the quarter ended June 30, 2021 were $61880 million and $(7) million, respectively.\n",
      "-------------------------------------------------------------------------------\n",
      "Alphabet Inc. CONSOLIDATED STATEMENTS OF INCOME (In millions, except share amounts which are reflected in thousands and per share amounts) Quarter Ended September 30, Year To Date September 30, 2020 2021 2020 2021 (unaudited) (unaudited) Revenues $ 46173 $ 65118 $ 125629 $ 182312 Costs and expenses: Cost of revenues 21117 27621 58652 77951 Research and development 6856 7694 20551 22854 Sales and marketing 4231 5516 12632 15308 General and administrative 2756 3256 8221 9370 Total costs and expenses 34960 44087 100056 125483 Income from operations 11213 21031 25573 56829 Other income (expense), net 2146 2033 3820 9503 Income before income taxes 13359 23064 29393 66332 Provision for income taxes 2112 4128 4351 10941 Net income $ 11247 $ 18936 $ 25042 $ 55391 Basic earnings per share of Class A and B common stock and Class C capital stock $ 16.55 $ 28.44 $ 36.69 $ 82.76 Diluted earnings per share of Class A and B common stock and Class C capital stock $ 16.40 $ 27.99 $ 36.38 $ 81.53 Number of shares used in basic earnings per share calculation 679449 665758 682561 669312 Number of shares used in diluted earnings per share calculation 685851 676519 688381 679401 5.\n",
      "-------------------------------------------------------------------------------\n",
      "Alphabet Inc. CONSOLIDATED STATEMENTS OF CASH FLOWS (In millions) Quarter Ended September 30, Year To Date September 30, 2020 2021 2020 2021 (unaudited) (unaudited) Operating activities Net income $ 11247 $ 18936 $ 25042 $ 55391 Adjustments: Depreciation and impairment of property and equipment 3289 3085 9366 8340 Amortization and impairment of intangible assets 189 219 606 662 Stock-based compensation expense 3195 3874 9768 11422 Deferred income taxes 136 (1287) (280) 192 Gain on debt and equity securities, net (2015) (2158) (3055) (9792) Other 206 64 875 (199) Changes in assets and liabilities, net of effects of acquisitions: Accounts receivable (3601) (2409) (1079) (3276) Income taxes, net (69) 3041 469 2744 Other assets (233) (1255) (592) (1447) Accounts payable 420 238 (269) (874) Accrued expenses and other liabilities 2990 2562 891 2763 Accrued revenue share 969 357 277 386 Deferred revenue 280 272 428 406 Net cash provided by operating activities 17003 25539 42447 66718 Investing activities Purchases of property and equipment (5406) (6819) (16802) (18257) Purchases of marketable securities (40821) (34497) (104932) (95106) Maturities and sales of marketable securities 31877 31459 97751 92126 Purchases of non-marketable investments (553) (656) (1864) (2068) Maturities and sales of non-marketable investments 125 334 598 590 Acquisitions, net of cash acquired, and purchases of intangible assets (13) (259) (368) (2233) Other investing activities (406) 388 125 441 Net cash used in investing activities (15197) (10050) (25492) (24507) Financing activities Net payments related to stock-based award activities (1357) (2602) (4073) (7239) Repurchases of common and capital stock (7897) (12610) (23245) (36801) Proceeds from issuance of debt, net of costs 9863 6350 11761 13949 Repayments of debt (61) (6392) (2043) (15070) Proceeds from sale of interest in consolidated entities, net (2) 0 2462 310 Net cash used in financing activities 546 (15254) (15138) (44851) Effect of exchange rate changes on cash and cash equivalents 35 (146) (186) (106) Net increase (decrease) in cash and cash equivalents 2387 89 1631 (2746) Cash and cash equivalents at beginning of period 17742 23630 18498 26465 Cash and cash equivalents at end of period $ 20129 $ 23719 $ 20129 $ 23719 6.\n",
      "-------------------------------------------------------------------------------\n",
      "Alphabet Inc. CONSOLIDATED BALANCE SHEETS (In millions, except share amounts which are reflected in thousands and par value per share amounts) As of December 31, As of September 30, 2020 2021 (unaudited) Assets Current assets: Cash and cash equivalents $ 26465 $ 23719 Marketable securities 110229 118284 Total cash, cash equivalents, and marketable securities 136694 142003 Accounts receivable, net 30930 34047 Income taxes receivable, net 454 753 Inventory 728 1278 Other current assets 5490 6029 Total current assets 174296 184110 Non-marketable investments 20703 26101 Deferred income taxes 1084 1195 Property and equipment, net 84749 94631 Operating lease assets 12211 12918 Intangible assets, net 1445 1549 Goodwill 21175 22623 Other non-current assets 3953 4276 Total assets $ 319616 $ 347403 Liabilities and Stockholders&#39; Equity Current liabilities: Accounts payable $ 5589 $ 4616 Accrued compensation and benefits 11086 12170 Accrued expenses and other current liabilities 28631 30113 Accrued revenue share 7500 7745 Deferred revenue 2543 2968 Income taxes payable, net 1485 4170 Total current liabilities 56834 61782 Long-term debt 13932 14288 Deferred revenue, non-current 481 510 Income taxes payable, non-current 8849 8984 Deferred income taxes 3561 3551 Operating lease liabilities 11146 11471 Other long-term liabilities 2269 2250 Total liabilities 97072 102836 Contingencies Stockholders&#39; equity: Convertible preferred stock, $0.001 par value per share, 100000 shares authorized; no shares issued and outstanding 0 0 Class A and Class B common stock, and Class C capital stock and additional paid-in capital, $0.001 par value per share: 15000000 shares authorized (Class A 9000000, Class B 3000000, Class C 3000000); 675222 (Class A 300730, Class B 45843, Class C 328649) and 664682 (Class A 300801, Class B 45261, Class C 318620) shares issued and outstanding 58510 61193 Accumulated other comprehensive income (loss) 633 (408) Retained earnings 163401 183782 Total stockholders&#39; equity 222544 244567 Total liabilities and stockholders&#39; equity $ 319616 $ 347403 4.\n",
      "-------------------------------------------------------------------------------\n",
      "Quarter Ended March 31, 2020 2021 Revenues $ 41159 $ 55314 Increase in revenues year over year 13 % 34 % Increase in constant currency revenues year over year(1) 15 % 32 % Operating income $ 7977 $ 16437 Operating margin 19 % 30 % Other income (expense), net $ (220) $ 4846 Net income $ 6836 $ 17930 Diluted EPS $ 9.87 $ 26.29 (1) Non-GAAP measure.\n",
      "-------------------------------------------------------------------------------\n",
      "Alphabet Inc. CONSOLIDATED STATEMENTS OF INCOME (In millions, except share amounts which are reflected in thousands and per share amounts) Quarter Ended March 31, 2020 2021 (unaudited) Revenues $ 41159 $ 55314 Costs and expenses: Cost of revenues 18982 24103 Research and development 6820 7485 Sales and marketing 4500 4516 General and administrative 2880 2773 Total costs and expenses 33182 38877 Income from operations 7977 16437 Other income (expense), net (220) 4846 Income before income taxes 7757 21283 Provision for income taxes 921 3353 Net income $ 6836 $ 17930 Basic earnings per share of Class A and B common stock and Class C capital stock $ 9.96 $ 26.63 Diluted earnings per share of Class A and B common stock and Class C capital stock $ 9.87 $ 26.29 Number of shares used in basic earnings per share calculation 686465 673220 Number of shares used in diluted earnings per share calculation 692267 682071 5.\n",
      "-------------------------------------------------------------------------------\n",
      "Alphabet Inc. CONSOLIDATED STATEMENTS OF CASH FLOWS (In millions) Quarter Ended March 31, 2020 2021 (unaudited) Operating activities Net income $ 6836 $ 17930 Adjustments: Depreciation and impairment of property and equipment 2899 2525 Amortization and impairment of intangible assets 209 228 Stock-based compensation expense 3191 3745 Deferred income taxes 175 1100 (Gain) loss on debt and equity securities, net 802 (4751) Other 297 (255) Changes in assets and liabilities, net of effects of acquisitions: Accounts receivable 2602 2794 Income taxes, net (245) 785 Other assets (115) 7 Accounts payable (835) (982) Accrued expenses and other liabilities (3531) (3530) Accrued revenue share (871) (444) Deferred revenue 37 137 Net cash provided by operating activities 11451 19289 Investing activities Purchases of property and equipment (6005) (5942) Purchases of marketable securities (37563) (36426) Maturities and sales of marketable securities 41811 39248 Purchases of non-marketable investments (572) (646) Maturities and sales of non-marketable investments 260 19 Acquisitions, net of cash acquired, and purchases of intangible assets (190) (1666) Other investing activities 412 30 Net cash used in investing activities (1847) (5383) Financing activities Net payments related to stock-based award activities (1241) (2184) Repurchases of capital stock (8496) (11395) Proceeds from issuance of debt, net of costs 1898 900 Repayments of debt (1947) (937) Proceeds from sale of interest in consolidated entities, net 1600 10 Net cash used in financing activities (8186) (13606) Effect of exchange rate changes on cash and cash equivalents (272) (143) Net increase in cash and cash equivalents 1146 157 Cash and cash equivalents at beginning of period 18498 26465 Cash and cash equivalents at end of period $ 19644 $ 26622 6.\n",
      "-------------------------------------------------------------------------------\n",
      "This change in accounting estimate was effective beginning in fiscal year 2021 and the effect for the three months ended March 31, 2021, was a reduction in depreciation expense of $835 million and an increase in net income of $650 million, or $0.97 per basic and $0.95 per diluted share.\n",
      "-------------------------------------------------------------------------------\n",
      "Alphabet Inc. CONSOLIDATED BALANCE SHEETS (In millions, except share amounts which are reflected in thousands and par value per share amounts) As of December 31, As of March 31, 2020 2021 (unaudited) Assets Current assets: Cash and cash equivalents $ 26465 $ 26622 Marketable securities 110229 108482 Total cash, cash equivalents, and marketable securities 136694 135104 Accounts receivable, net 30930 28006 Income taxes receivable, net 454 493 Inventory 728 888 Other current assets 5490 7646 Total current assets 174296 172137 Non-marketable investments 20703 25294 Deferred income taxes 1084 1129 Property and equipment, net 84749 87606 Operating lease assets 12211 12598 Intangible assets, net 1445 1823 Goodwill 21175 22341 Other non-current assets 3953 4167 Total assets $ 319616 $ 327095 Liabilities and Stockholders&#39; Equity Current liabilities: Accounts payable $ 5589 $ 4801 Accrued compensation and benefits 11086 8375 Accrued expenses and other current liabilities 28631 30732 Accrued revenue share 7500 6962 Deferred revenue 2543 2690 Income taxes payable, net 1485 1893 Total current liabilities 56834 55453 Long-term debt 13932 13887 Deferred revenue, non-current 481 530 Income taxes payable, non-current 8849 9278 Deferred income taxes 3561 4406 Operating lease liabilities 11146 11382 Other long-term liabilities 2269 2146 Total liabilities 97072 97082 Contingencies Stockholders&#39; equity: Convertible preferred stock, $0.001 par value per share, 100000 shares authorized; no shares issued and outstanding 0 0 Class A and Class B common stock, and Class C capital stock and additional paid-in capital, $0.001 par value per share: 15000000 shares authorized (Class A 9000000, Class B 3000000, Class C 3000000); 675222 (Class A 300730, Class B 45843, Class C 328649) and 671094 (Class A 300747, Class B 45836, Class C 324511) shares issued and outstanding 58510 59436 Accumulated other comprehensive income (loss) 633 (3) Retained earnings 163401 170580 Total stockholders&#39; equity 222544 230013 Total liabilities and stockholders&#39; equity $ 319616 $ 327095 4.\n",
      "-------------------------------------------------------------------------------\n",
      "Our longstanding infrastructure leadership and in-house research teams position us well as technology evolves and as we pursue the many opportunities ahead.” Ruth Porat, President and Chief Investment Officer; CFO said: “We delivered revenues of $85 billion, up 14% year on-year driven by Search as well as Cloud, which for the first time exceeded $10 billion in quarterly revenues and $1 billion in operating profit.\n",
      "-------------------------------------------------------------------------------\n",
      "Alphabet Inc. CONSOLIDATED STATEMENTS OF INCOME (In millions, except per share amounts, unaudited) Quarter Ended June 30, Year to Date June 30, 2023 2024 2023 2024 Revenues $ 74604 $ 84742 $ 144391 $ 165281 Costs and expenses: Cost of revenues 31916 35507 62528 69219 Research and development 10588 11860 22056 23763 Sales and marketing 6781 6792 13314 13218 General and administrative 3481 3158 7240 6184 Total costs and expenses 52766 57317 105138 112384 Income from operations 21838 27425 39253 52897 Other income (expense), net 65 126 855 2969 Income before income taxes 21903 27551 40108 55866 Provision for income taxes 3535 3932 6689 8585 Net income $ 18368 $ 23619 $ 33419 $ 47281 Basic earnings per share $ 1.45 $ 1.91 $ 2.63 $ 3.82 Diluted earnings per share $ 1.44 $ 1.89 $ 2.61 $ 3.78 Number of shares used in basic earnings per share calculation 12668 12343 12725 12379 Number of shares used in diluted earnings per share calculation 12764 12495 12794 12511 5.\n",
      "-------------------------------------------------------------------------------\n",
      "Alphabet Inc. CONSOLIDATED STATEMENTS OF CASH FLOWS (In millions, unaudited) Quarter Ended June 30, Year to Date June 30, 2023 2024 2023 2024 Operating activities Net income $ 18368 $ 23619 $ 33419 $ 47281 Adjustments: Depreciation of property and equipment 2824 3708 5459 7121 Stock-based compensation expense 5774 5865 11058 11129 Deferred income taxes (2415) (3157) (4269) (2738) Loss (gain) on debt and equity securities, net 509 1024 425 (757) Other 670 851 1774 1185 Changes in assets and liabilities, net of effects of acquisitions: Accounts receivable, net (2948) (3057) 1506 110 Income taxes, net(1) 4451 (3900) 8520 (889) Other assets (513) (532) (1259) (1532) Accounts payable 1119 1561 14 (563) Accrued expenses and other liabilities 459 (122) (4037) (5176) Accrued revenue share 184 419 (418) 97 Deferred revenue 184 361 (17) 220 Net cash provided by operating activities 28666 26640 52175 55488 Investing activities Purchases of property and equipment (6888) (13186) (13177) (25198) Purchases of marketable securities (21362) (22327) (35589) (43011) Maturities and sales of marketable securities 18722 33592 37049 58577 Purchases of non-marketable securities (887) (993) (1513) (2199) Maturities and sales of non-marketable securities 145 292 181 605 Acquisitions, net of cash acquired, and purchases of intangible assets (298) (26) (340) (87) Other investing activities (232) (133) (357) (32) Net cash used in investing activities (10800) (2781) (13746) (11345) Financing activities Net payments related to stock-based award activities (2736) (3209) (4725) (6138) Repurchases of stock (14969) (15684) (29526) (31380) Dividend payments 0 (2466) 0 (2466) Proceeds from issuance of debt, net of costs 1123 2893 8050 4875 Repayments of debt (1255) (2423) (8207) (5502) Proceeds from sale of interest in consolidated entities, net 2 0 5 8 Net cash used in financing activities (17835) (20889) (34403) (40603) Effect of exchange rate changes on cash and cash equivalents (26) (238) 24 (363) Net increase (decrease) in cash and cash equivalents 5 2732 4050 3177 Cash and cash equivalents at beginning of period 25924 24493 21879 24048 Cash and cash equivalents at end of period $ 25929 $ 27225 $ 25929 $ 27225 (1) The three and six months periods ended June 30, 2023 included the effect of the IRS payment deferral relief made available to taxpayers headquartered in designated counties in California, 6.\n",
      "-------------------------------------------------------------------------------\n",
      "On July 23, 2024, Alphabet announced a cash dividend of $0.20 per share that will be paid on September 16, 2024, to stockholders of record as of September 9, 2024, on each of the company&#39;s Class A, Class B, and Class C shares. 2.\n",
      "-------------------------------------------------------------------------------\n",
      "Alphabet Inc. CONSOLIDATED BALANCE SHEETS (In millions, except par value per share amounts) As of December 31, 2023 As of June 30, 2024 (unaudited) Assets Current assets: Cash and cash equivalents $ 24048 $ 27225 Marketable securities 86868 73500 Total cash, cash equivalents, and marketable securities 110916 100725 Accounts receivable, net 47964 47087 Other current assets 12650 14183 Total current assets 171530 161995 Non-marketable securities 31008 34172 Deferred income taxes 12169 14958 Property and equipment, net 134345 151155 Operating lease assets 14091 13606 Goodwill 29198 29185 Other non-current assets 10051 9699 Total assets $ 402392 $ 414770 Liabilities and Stockholders&#39; Equity Current liabilities: Accounts payable $ 7493 $ 6092 Accrued compensation and benefits 15140 11373 Accrued expenses and other current liabilities 46168 47298 Accrued revenue share 8876 8899 Deferred revenue 4137 4251 Total current liabilities 81814 77913 Long-term debt 13253 13238 Deferred revenue, non-current 911 985 Income taxes payable, non-current 8474 7703 Deferred income taxes 485 717 Operating lease liabilities 12460 11708 Other long-term liabilities 1616 1753 Total liabilities 119013 114017 Commitments and contingencies Stockholders&#39; equity: Preferred stock, $0.001 par value per share, 100 shares authorized; no shares issued and outstanding 0 0 Class A, Class B, and Class C stock and additional paid-in capital, $$0.001 par value per share: 300000 shares authorized (Class A 180000, Class B 60000, Class C 60000); 12460 (Class A 5899, Class B 870, Class C 5691) and 12322 (Class A 5860, Class B 866, Class C 5596) shares issued and outstanding 76534 79732 Accumulated other comprehensive income (loss) (4402) (5012) Retained earnings 211247 226033 Total stockholders&#39; equity 283379 300753 Total liabilities and stockholders&#39; equity $ 402392 $ 414770 4.\n",
      "-------------------------------------------------------------------------------\n",
      "“We&#39;re working to help people, businesses and communities in these uncertain times,” said Sundar Pichai, Chief Executive Officer of Google and Alphabet. “As people increasingly turn to online services, our platforms — from Cloud to Google Play to YouTube — are helping our partners provide important services and support their businesses.” “In the second quarter our total revenues were $38.3B, driven by gradual improvement in our ads business and strong growth in Google Cloud and Other Revenues,” said Ruth Porat, Chief Financial Officer of Alphabet and Google. “We continue to navigate through a difficult global economic environment.” Q2 2020 financial highlights The following table summarizes our consolidated financial results for the quarters ended June 30, 2019 and 2020 (in millions, except for per share information and percentages; unaudited).\n",
      "-------------------------------------------------------------------------------\n",
      "Alphabet Inc. CONSOLIDATED STATEMENTS OF INCOME (In millions, except share amounts which are reflected in thousands and per share amounts; unaudited) Quarter Ended June 30, Year to Date June 30, 2019 2020 2019 2020 Revenues $ 38944 $ 38297 $ 75283 $ 79456 Costs and expenses: Cost of revenues 17296 18553 33308 37535 Research and development 6213 6875 12242 13695 Sales and marketing 4212 3901 8117 8401 General and administrative 2043 2585 4131 5465 European Commission fines 0 0 1697 0 Total costs and expenses 29764 31914 59495 65096 Income from operations 9180 6383 15788 14360 Other income (expense), net 2967 1894 4505 1674 Income before income taxes 12147 8277 20293 16034 Provision for income taxes 2200 1318 3689 2239 Net income $ 9947 $ 6959 $ 16604 $ 13795 Basic earnings per share of Class A and B common stock and Class C capital stock $ 14.33 $ 10.21 $ 23.91 $ 20.16 Diluted earnings per share of Class A and B common stock and Class C capital stock $ 14.21 $ 10.13 $ 23.71 $ 20.00 Number of shares used in basic earnings per share calculation 693969 681768 694419 684117 Number of shares used in diluted earnings per share calculation 699954 687024 700417 689646 5.\n",
      "-------------------------------------------------------------------------------\n",
      "Alphabet Inc. CONSOLIDATED STATEMENTS OF CASH FLOWS (In millions; unaudited) Quarter Ended June 30, Year to Date June 30, 2019 2020 2019 2020 Operating activities Net income $ 9947 $ 6959 $ 16604 $ 13795 Adjustments: Depreciation and impairment of property and equipment 2626 3178 5042 6077 Amortization and impairment of intangible assets 209 208 406 417 Stock-based compensation expense 2756 3382 5525 6573 Deferred income taxes 693 (591) 620 (416) Gain on debt and equity securities, net (2797) (1842) (3878) (1040) Other (70) 372 (48) 669 Changes in assets and liabilities, net of effects of acquisitions: Accounts receivable (1146) (80) 26 2522 Income taxes, net (1043) 783 25 538 Other assets 89 (244) (176) (359) Accounts payable (18) 146 (443) (689) Accrued expenses and other liabilities 1303 1432 1074 (2099) Accrued revenue share 87 179 (60) (692) Deferred revenue (9) 111 (90) 148 Net cash provided by operating activities 12627 13993 24627 25444 Investing activities Purchases of property and equipment (6126) (5391) (10764) (11396) Purchases of marketable securities (23841) (26548) (44724) (64111) Maturities and sales of marketable securities 19686 24063 40692 65874 Purchases of non-marketable investments (188) (739) (1095) (1311) Maturities and sales of non-marketable investments 107 213 206 473 Acquisitions, net of cash acquired, and purchases of intangible assets (148) (165) (247) (355) Other investing activities 55 119 89 531 Net cash used in investing activities (10455) (8448) (15843) (10295) Financing activities Net payments related to stock-based award activities (1260) (1475) (2435) (2716) Repurchases of capital stock (3577) (6852) (6602) (15348) Proceeds from issuance of debt, net of costs 2 0 317 1898 Repayments of debt (48) (35) (393) (1982) Proceeds from sale of interest in consolidated entities 137 864 184 2464 Net cash used in financing activities (4746) (7498) (8929) (15684) Effect of exchange rate changes on cash and cash equivalents 13 51 31 (221) Net decrease in cash and cash equivalents (2561) (1902) (114) (756) Cash and cash equivalents at beginning of period 19148 19644 16701 18498 Cash and cash equivalents at end of period $ 16587 $ 17742 $ 16587 $ 17742 6.\n",
      "-------------------------------------------------------------------------------\n",
      "Alphabet Inc. CONSOLIDATED BALANCE SHEETS (In millions, except share amounts which are reflected in thousands and par value per share amounts) As of December 31, As of June 30, 2019 2020 (unaudited) Assets Current assets: Cash and cash equivalents $ 18498 $ 17742 Marketable securities 101177 103338 Total cash, cash equivalents, and marketable securities 119675 121080 Accounts receivable, net 25326 21201 Income taxes receivable, net 2166 394 Inventory 999 815 Other current assets 4412 5579 Total current assets 152578 149069 Non-marketable investments 13078 12961 Deferred income taxes 721 895 Property and equipment, net 73646 78748 Operating lease assets 10941 11567 Intangible assets, net 1979 1697 Goodwill 20624 20824 Other non-current assets 2342 2731 Total assets $ 275909 $ 278492 Liabilities and Stockholders&#39; Equity Current liabilities: Accounts payable $ 5561 $ 4064 Accrued compensation and benefits 8495 7127 Accrued expenses and other current liabilities 23067 24426 Accrued revenue share 5916 5005 Deferred revenue 1908 2061 Income taxes payable, net 274 975 Total current liabilities 45221 43658 Long-term debt 4554 4018 Deferred revenue, non-current 358 397 Income taxes payable, non-current 9885 8599 Deferred income taxes 1701 1797 Operating lease liabilities 10214 10709 Other long-term liabilities 2534 1992 Total liabilities 74467 71170 Commitments and contingencies Stockholders&#39; equity: Convertible preferred stock, $0.001 par value per share, 100000 shares authorized; no shares issued and outstanding 0 0 Class A and Class B common stock, and Class C capital stock and additional paid-in capital, $0.001 par value per share: 15000000 shares authorized (Class A 9000000, Class B 3000000, Class C 3000000); 688335 (Class A 299828, Class B 46441, Class C 342066) and 681215 (Class A 300221, Class B 46302, Class C 334692) shares issued and outstanding 50552 55937 Accumulated other comprehensive loss (1232) (296) Retained earnings 152122 151681 Total stockholders&#39; equity 201442 207322 Total liabilities and stockholders&#39; equity $ 275909 $ 278492 4.\n",
      "-------------------------------------------------------------------------------\n",
      "(4) Reconciling items are primarily related to corporate administrative and other costs that are not allocated to individual segments.\n"
     ]
    }
   ],
   "source": [
    "retrieval_qa = RetrievalQA.from_chain_type(\n",
    "    llm=llm, chain_type=\"stuff\", retriever=retriever, return_source_documents=True\n",
    ")\n",
    "\n",
    "results = retrieval_qa.invoke(search_query)\n",
    "\n",
    "print(\"*\" * 79)\n",
    "print(results[\"result\"])\n",
    "print(\"*\" * 79)\n",
    "for doc in results[\"source_documents\"]:\n",
    "    print(\"-\" * 79)\n",
    "    print(doc.page_content)"
   ]
  },
  {
   "cell_type": "code",
   "execution_count": 7,
   "id": "8b76d4e6-356a-4922-aee2-2ced5343e656",
   "metadata": {
    "tags": []
   },
   "outputs": [
    {
     "data": {
      "text/plain": [
       "{'answer': 'The Revenue in Q2 2021 for Alphabet are 69.7 Billion which does not equal 60M as suggested in the question.\\n',\n",
       " 'sources': ''}"
      ]
     },
     "execution_count": 7,
     "metadata": {},
     "output_type": "execute_result"
    }
   ],
   "source": [
    "retrieval_qa_with_sources = RetrievalQAWithSourcesChain.from_chain_type(\n",
    "    llm=llm, chain_type=\"stuff\", retriever=retriever\n",
    ")\n",
    "\n",
    "retrieval_qa_with_sources.invoke(search_query, return_only_outputs=True)"
   ]
  },
  {
   "cell_type": "code",
   "execution_count": 8,
   "id": "c9d21b80-dc99-485c-9dbc-9bb132225258",
   "metadata": {
    "tags": []
   },
   "outputs": [
    {
     "name": "stdout",
     "output_type": "stream",
     "text": [
      "Alphabet inc.'s revenue for the year ended December 31, 2022, was $282.836 billion.\n"
     ]
    }
   ],
   "source": [
    "multi_turn_retriever = VertexAIMultiTurnSearchRetriever(\n",
    "    project_id=PROJECT_ID, location_id=DATA_STORE_LOCATION, data_store_id=DATA_STORE_ID\n",
    ")\n",
    "memory = ConversationBufferMemory(memory_key=\"chat_history\", return_messages=True)\n",
    "conversational_retrieval = ConversationalRetrievalChain.from_llm(\n",
    "    llm=llm, retriever=multi_turn_retriever, memory=memory\n",
    ")\n",
    "\n",
    "search_query = \"What were alphabet revenues in 2022?\"\n",
    "\n",
    "result = conversational_retrieval.invoke(search_query)\n",
    "print(result[\"answer\"])"
   ]
  },
  {
   "cell_type": "code",
   "execution_count": 9,
   "id": "f59a4f58-7915-411c-85c6-658579bc9c5d",
   "metadata": {
    "tags": []
   },
   "outputs": [
    {
     "name": "stdout",
     "output_type": "stream",
     "text": [
      "## Alphabet Inc. Costs and Expenses in 2022:\n",
      "\n",
      "Based on the information provided, Alphabet Inc.'s costs and expenses in 2022 were:\n",
      "\n",
      "**Total Costs and Expenses:** $207,994 million\n",
      "\n",
      "**Breakdown:**\n",
      "\n",
      "* **Cost of revenues:** $126,203 million\n",
      "* **Research and Development:** $39,500 million\n",
      "* **Sales and Marketing:** $26,567 million\n",
      "* **General and Administrative:** $15,724 million\n",
      "\n",
      "**Additional Information:**\n",
      "\n",
      "* **Cost of Revenues:** Includes the costs of providing services and delivering products, such as data center expenses, content acquisition costs, and customer support.\n",
      "* **Research and Development:** Includes expenses related to the development of new products and technologies, such as self-driving cars, artificial intelligence, and virtual reality.\n",
      "* **Sales and Marketing:** Includes expenses related to promoting and selling products and services, such as advertising, marketing campaigns, and employee salaries.\n",
      "* **General and Administrative:** Includes expenses related to the overall management of the company, such as legal fees, accounting fees, and executive salaries.\n"
     ]
    }
   ],
   "source": [
    "new_query = \"What about costs and expenses?\"\n",
    "result = conversational_retrieval.invoke(new_query)\n",
    "print(result[\"answer\"])"
   ]
  },
  {
   "cell_type": "code",
   "execution_count": 10,
   "id": "5e497f9d-69f5-4266-803c-881088c265d6",
   "metadata": {
    "tags": []
   },
   "outputs": [
    {
     "name": "stdout",
     "output_type": "stream",
     "text": [
      "Use the following pieces of context to answer the question at the end. If you don't know the answer, just say that you don't know, don't try to make up an answer.\n",
      "\n",
      "{context}\n",
      "\n",
      "Question: {question}\n",
      "Helpful Answer:\n"
     ]
    }
   ],
   "source": [
    "qa = RetrievalQA.from_chain_type(\n",
    "    llm=llm, chain_type=\"stuff\", retriever=retriever, return_source_documents=True\n",
    ")\n",
    "\n",
    "print(qa.combine_documents_chain.llm_chain.prompt.template)"
   ]
  },
  {
   "cell_type": "code",
   "execution_count": 11,
   "id": "d7fd0270-e5b0-4369-b7be-755c6ae5cbc7",
   "metadata": {
    "tags": []
   },
   "outputs": [],
   "source": [
    "prompt_template = \"\"\"Use the context to answer the question at the end.\n",
    "You must always use the context and context only to answer the question. Never try to make up an answer. If the context is empty or you do not know the answer, just say \"I don't know\".\n",
    "The answer should consist of only 1 word and not a sentence.\n",
    "\n",
    "Context: {context}\n",
    "\n",
    "Question: {question}\n",
    "Helpful Answer:\n",
    "\"\"\"\n",
    "prompt = PromptTemplate(\n",
    "    template=prompt_template, input_variables=[\"context\", \"question\"]\n",
    ")\n",
    "qa_chain = RetrievalQA.from_llm(\n",
    "    llm=llm, prompt=prompt, retriever=retriever, return_source_documents=True\n",
    ")"
   ]
  },
  {
   "cell_type": "code",
   "execution_count": 12,
   "id": "cad38176-ac82-454c-9e02-bb79bb473eb6",
   "metadata": {
    "tags": []
   },
   "outputs": [
    {
     "name": "stdout",
     "output_type": "stream",
     "text": [
      "Use the context to answer the question at the end.\n",
      "You must always use the context and context only to answer the question. Never try to make up an answer. If the context is empty or you do not know the answer, just say \"I don't know\".\n",
      "The answer should consist of only 1 word and not a sentence.\n",
      "\n",
      "Context: {context}\n",
      "\n",
      "Question: {question}\n",
      "Helpful Answer:\n",
      "\n"
     ]
    }
   ],
   "source": [
    "print(qa_chain.combine_documents_chain.llm_chain.prompt.template)"
   ]
  },
  {
   "cell_type": "code",
   "execution_count": 13,
   "id": "8ac8d2df-811f-4db5-a421-2a7cfae92ef8",
   "metadata": {
    "tags": []
   },
   "outputs": [
    {
     "name": "stdout",
     "output_type": "stream",
     "text": [
      "*******************************************************************************\n",
      "yes\n",
      "*******************************************************************************\n",
      "-------------------------------------------------------------------------------\n",
      "Year Ended December 31, % Change from 2020 2021 Prior Year EMEA revenues $ $ 43% EMEA constant currency revenues 38 % APAC revenues 32550 42% APAC constant currency revenues 40% Other Americas revenues 14404 53% Other Americas constant currency revenues 52% United States revenues 85014 39% Hedging gains (losses) 149 Total revenues $ $ 41% Revenues, excluding hedging effect $ 182351 $ Exchange rate effect (3330) Total constant currency revenues $ 254158 39% EMEA revenue growth from 2020 to 2021 was favorably affected by foreign currency exchange rates, primarily due to the US dollar weakening relative to the Euro and British pound.\n",
      "-------------------------------------------------------------------------------\n",
      "Google Cloud&#39;s infrastructure and platform services were the largest drivers of growth in GCP. Revenues by Geography The following table presents revenues by geography as a percentage of revenues, determined based on the addresses of our Year Ended December 31, 2020 2021 United States % % EMEA 30 % 31 % APAC 18 % 18 % Other Americas 5 % 5 %\n",
      "-------------------------------------------------------------------------------\n",
      "The increase was primarily due to an increase in compensation expenses This increase was partially offset by a reduction in depreciation expense of $450 million including the effect of our change in the estimated useful life of our servers and certain network equipment.\n",
      "-------------------------------------------------------------------------------\n",
      "Other Bets include earlier stage technologies that the Notes to Consolidated Financial Statements included in Item 8 of this Annual Report on Form 10-K.\n",
      "-------------------------------------------------------------------------------\n",
      "This was followed by increased spending by our advertisers, which continued throughout the.\n",
      "-------------------------------------------------------------------------------\n",
      "Comparison to the Quarter Ended December 31, 2020 Quarter Ended December 31, 2020 December 31, 2021 % Change from Prior Year EMEA revenues $ 17238 $ 23153 34 % EMEA constant currency revenues 23211 35 % APAC revenues 9909 12732 28 % APAC constant currency revenues 12996 31 % Other Americas revenues 3050 4447 46 % Other Americas constant currency revenues 4398 44 % United States revenues 26703 34790 30 % Hedging gains (losses) (2) 203 Total revenues $ 56898 $ 75325 32 % Revenues, excluding hedging effect $ 56900 $ 75122 Exchange rate effect 273 Total constant currency revenues $ 75395 33 % 7.\n",
      "-------------------------------------------------------------------------------\n",
      "Comparison to the Quarter Ended September 30, 2021 Quarter Ended September 30, 2021 December 31, 2021 % Change from Prior Quarter EMEA revenues $ 19839 $ 23153 17 % EMEA constant currency revenues 23662 19 % APAC revenues 11705 12732 9 % APAC constant currency revenues 12872 10 % Other Americas revenues 3688 4447 21 % Other Americas constant currency revenues 4560 24 % United States revenues 29824 34790 17 % Hedging gains (losses) 62 203 Total revenues $ 65118 $ 75325 16 % Revenues, excluding hedging effect $ 65056 $ 75122 Exchange rate effect 762 Total constant currency revenues $ 75884 17 % Comparison to the Year Ended December 31, 2020 Year Ended December 31, 2020 December 31, 2021 % Change from Prior Year EMEA revenues $ 55370 $ 79107 43 % EMEA constant currency revenues 76321 38 % APAC revenues 32550 46123 42 % APAC constant currency revenues 45666 40 % Other Americas revenues 9417 14404 53 % Other Americas constant currency revenues 14317 52 % United States revenues 85014 117854 39 % Hedging gains (losses) 176 149 Total revenues $ 182527 $ 257637 41 % Revenues, excluding hedging effect $ 182351 $ 257488 Exchange rate effect (3330) Total constant currency revenues $ 254158 39 % Non-GAAP constant currency revenues and percentage change: We define non-GAAP constant currency revenues as total revenues excluding the effect of foreign exchange rate movements and hedging activities, and we use it to determine the constant currency revenue percentage change on year-on-year and quarter-on-quarter basis.\n",
      "-------------------------------------------------------------------------------\n",
      "Other income (expense), net The following table presents our other income (expense), net (in millions; unaudited): Quarter Ended December 31, 2020 2021 Interest income $ 386 $ 378 Interest expense (53) (117) Foreign currency exchange gain (loss), net (87) (163) Gain (loss) on debt securities, net 210 (172) Gain (loss) on equity securities, net(1) 3052 2650 Performance fees (405) (228) Income (loss) and impairment from equity method investments, net 355 49 Other (420) 120 Other income (expense), net $ 3038 $ 2517 (1) Includes all gains and losses, unrealized and realized, on equity investments.\n",
      "-------------------------------------------------------------------------------\n",
      "Sundar Pichai, CEO of Alphabet and Google, said: “Our deep investment in AI technologies continues to drive extraordinary and helpful experiences for people and businesses, across our most important products. Q4 saw ongoing strong growth in our advertising business, which helped millions of businesses thrive and find new customers, a quarterly sales record for our Pixel phones despite supply constraints, and our Cloud business continuing to grow strongly.” Ruth Porat, CFO of Alphabet and Google, said: “Our fourth quarter revenues of $75 billion, up 32% year over year, reflected broad-based strength in advertiser spend and strong consumer online activity, as well as substantial ongoing revenue growth from Google Cloud.\n",
      "-------------------------------------------------------------------------------\n",
      "Contact Investor relations Media investor-relations@abc.xyz press@abc.xyz 3.\n",
      "-------------------------------------------------------------------------------\n",
      "Comparison from the Quarter Ended June 30, 2020 to the Quarter Ended June 30, 2021 Quarter Ended June 30, 2020 June 30, 2021 % Change from Prior Year EMEA revenues $ 11363 $ 19084 68 % EMEA constant currency revenues 17659 55 % APAC revenues 6945 11231 62 % APAC constant currency revenues 10881 57 % Other Americas revenues 1839 3364 83 % Other Americas constant currency revenues 3252 77 % United States revenues 17999 28208 57 % Hedging gains (losses) 151 (7) Total revenues $ 38297 $ 61880 62 % Revenues, excluding hedging effect $ 38146 $ 61887 Exchange rate effect (1887) Total constant currency revenues $ 60000 57 % 7.\n",
      "-------------------------------------------------------------------------------\n",
      "Comparison from the Quarter Ended June 30, 2021 to the Quarter Ended June 30, 2022 Quarter Ended June 30, 2021 June 30, 2022 % Change from Prior Year EMEA revenues $ 19084 $ 20533 8 % EMEA constant currency revenues 22489 18 % APAC revenues 11231 11710 4 % APAC constant currency revenues 12466 11 % Other Americas revenues 3364 4340 29 % Other Americas constant currency revenues 4310 28 % United States revenues 28208 32727 16 % Hedging gains (losses) (7) 375 Total revenues $ 61880 $ 69685 13 % Revenues, excluding hedging effect $ 61887 $ 69310 Exchange rate effect 2682 Total constant currency revenues $ 71992 16 % Comparison from the Quarter Ended March 31, 2022 to the Quarter Ended June 30, 2022 Quarter Ended March 31, 2022 June 30, 2022 % Change from Prior Quarter EMEA revenues $ 20317 $ 20533 1 % EMEA constant currency revenues 21164 4 % APAC revenues 11841 11710 (1) % APAC constant currency revenues 12044 2 % Other Americas revenues 3842 4340 13 % Other Americas constant currency revenues 4231 10 % United States revenues 31733 32727 3 % Hedging gains (losses) 278 375 Total revenues $ 68011 $ 69685 2 % Revenues, excluding hedging effect $ 67733 $ 69310 Exchange rate effect 856 Total constant currency revenues $ 70166 4 % Non-GAAP constant currency revenues and percentage change: We define non-GAAP constant currency revenues as total revenues excluding the effect of foreign exchange rate movements and hedging activities, and we use it to determine the constant currency revenue percentage change on year-on-year and quarter-on-quarter basis. Non-GAAP constant currency revenues are calculated by translating current quarter revenues using prior period exchange rates and excluding any hedging effect recognized in the current quarter.\n",
      "-------------------------------------------------------------------------------\n",
      "Other income (expense), net The following table presents our other income (expense), net (in millions; unaudited): Quarter Ended June 30, 2021 2022 Interest income $ 389 $ 486 Interest expense (76) (83) Foreign currency exchange gain (loss), net (51) (260) Gain (loss) on debt securities, net 111 (790) Gain (loss) on equity securities, net(1) 2772 (251) Performance fees (523) 318 Income (loss) and impairment from equity method investments, net 92 (118) Other (90) 259 Other income (expense), net $ 2624 $ (439) (1) Includes all gains and losses, unrealized and realized, on equity investments.\n",
      "-------------------------------------------------------------------------------\n",
      "Contact Investor relations Media investor-relations@abc.xyz press@abc.xyz 3.\n",
      "-------------------------------------------------------------------------------\n",
      "Alphabet Inc. CONSOLIDATED STATEMENTS OF INCOME (In millions, except per share amounts, unaudited) Quarter Ended June 30, Year To Date June 30, 2021 2022 2021 2022 Revenues $ 61880 $ 69685 $ 117194 $ 137696 Costs and expenses: Cost of revenues 26227 30104 50330 59703 Research and development 7675 9841 15160 18960 Sales and marketing 5276 6630 9792 12455 General and administrative 3341 3657 6114 7031 Total costs and expenses 42519 50232 81396 98149 Income from operations 19361 19453 35798 39547 Other income (expense), net 2624 (439) 7470 (1599) Income before income taxes 21985 19014 43268 37948 Provision for income taxes 3460 3012 6813 5510 Net income $ 18525 $ 16002 $ 36455 $ 32438 Basic earnings per share of Class A, Class B, and Class C stock $ 1.38 $ 1.22 $ 2.72 $ 2.46 Diluted earnings per share of Class A, Class B, and Class C stock $ 1.36 $ 1.21 $ 2.68 $ 2.44 Number of shares used in basic earnings per share calculation 13379 13133 13422 13168 Number of shares used in diluted earnings per share calculation 13592 13239 13617 13295 5.\n",
      "-------------------------------------------------------------------------------\n",
      "Comparison from the Quarter Ended March 31, 2020 to the Quarter Ended March 31, 2021 Quarter Ended % Change from Prior March 31, 2020 March 31, 2021 Year EMEA revenues $ 12845 $ 17031 33 % EMEA constant currency revenues 16102 25 % APAC revenues 7238 10455 44 % APAC constant currency revenues 10092 39 % Other Americas revenues 2157 2905 35 % Other Americas constant currency revenues 3096 44 % United States revenues 18870 25032 33 % Hedging gains (losses) 49 (109) Total revenues $ 41159 $ 55314 34 % Revenues, excluding hedging effect $ 41110 $ 55423 Exchange rate effect (1101) Total constant currency revenues $ 54322 32 % 7.\n",
      "-------------------------------------------------------------------------------\n",
      "Comparison from the Quarter Ended March 31, 2021 to the Quarter Ended March 31, 2022 Quarter Ended March 31, 2021 March 31, 2022 % Change from Prior Year EMEA revenues $ 17031 $ 20317 19 % EMEA constant currency revenues 21628 27 % APAC revenues 10455 11841 13 % APAC constant currency revenues 12440 19 % Other Americas revenues 2905 3842 32 % Other Americas constant currency revenues 3923 35 % United States revenues 25032 31733 27 % Hedging gains (losses) (109) 278 Total revenues $ 55314 $ 68011 23 % Revenues, excluding hedging effect $ 55423 $ 67733 Exchange rate effect 1991 Total constant currency revenues $ 69724 26 % Comparison from the Quarter Ended December 31, 2021 to the Quarter Ended March 31, 2022 Quarter Ended December 31, 2021 March 31, 2022 % Change from Prior Quarter EMEA revenues $ 23153 $ 20317 (12) % EMEA constant currency revenues 20836 (10) % APAC revenues 12732 11841 (7) % APAC constant currency revenues 11975 (6) % Other Americas revenues 4447 3842 (14) % Other Americas constant currency revenues 3854 (13) % United States revenues 34790 31733 (9) % Hedging gains (losses) 203 278 Total revenues $ 75325 $ 68011 (10) % Revenues, excluding hedging effect $ 75122 $ 67733 Exchange rate effect 665 Total constant currency revenues $ 68398 (9) % Non-GAAP constant currency revenues and percentage change: We define non-GAAP constant currency revenues as total revenues excluding the effect of foreign exchange rate movements and hedging activities, and we use it to determine the constant currency revenue percentage change on year-on-year and quarter-on-quarter basis. Non-GAAP constant currency revenues are calculated by translating current quarter revenues using prior period exchange rates and excluding any hedging effect recognized in the current quarter.\n",
      "-------------------------------------------------------------------------------\n",
      "Other income (expense), net The following table presents our other income (expense), net (in millions; unaudited): Quarter Ended March 31, 2021 2022 Interest income $ 345 $ 414 Interest expense (76) (83) Foreign currency exchange gain (loss), net 113 (73) Gain (loss) on debt securities, net (86) (367) Gain (loss) on equity securities, net(1) 4837 (1070) Performance fees (665) 233 Income (loss) and impairment from equity method investments, net 5 (89) Other 373 (125) Other income (expense), net $ 4846 $ (1160) (1) Includes all gains and losses, unrealized and realized, on equity investments.\n",
      "-------------------------------------------------------------------------------\n",
      "We use these non-GAAP financial measures for financial and operational decision-making and as a means to evaluate period-to-period comparisons.\n",
      "-------------------------------------------------------------------------------\n",
      "Alphabet Inc. CONSOLIDATED STATEMENTS OF INCOME (In millions, except share amounts which are reflected in thousands and per share amounts) Quarter Ended March 31, 2021 2022 (unaudited) Revenues $ 55314 $ 68011 Costs and expenses: Cost of revenues 24103 29599 Research and development 7485 9119 Sales and marketing 4516 5825 General and administrative 2773 3374 Total costs and expenses 38877 47917 Income from operations 16437 20094 Other income (expense), net 4846 (1160) Income before income taxes 21283 18934 Provision for income taxes 3353 2498 Net income $ 17930 $ 16436 Basic earnings per share of Class A, Class B, and Class C stock $ 26.63 $ 24.90 Diluted earnings per share of Class A, Class B, and Class C stock $ 26.29 $ 24.62 Number of shares used in basic earnings per share calculation 673220 660171 Number of shares used in diluted earnings per share calculation 682071 667551 5.\n",
      "-------------------------------------------------------------------------------\n",
      "Comparison from the Quarter Ended September 30, 2020 to the Quarter Ended September 30, 2021 Quarter Ended September 30, 2020 September 30, 2021 % Change from Prior Year EMEA revenues $ 13924 $ 19839 42 % EMEA constant currency revenues 19349 39 % APAC revenues 8458 11705 38 % APAC constant currency revenues 11697 38 % Other Americas revenues 2371 3688 56 % Other Americas constant currency revenues 3571 51 % United States revenues 21442 29824 39 % Hedging gains (losses) (22) 62 Total revenues $ 46173 $ 65118 41 % Revenues, excluding hedging effect $ 46195 $ 65056 Exchange rate effect (615) Total constant currency revenues $ 64441 39 % 7.\n",
      "-------------------------------------------------------------------------------\n",
      "Comparison from the Quarter Ended September 30, 2021 to the Quarter Ended September 30, 2022 Quarter Ended September 30, 2021 September 30, 2022 % Change from Prior Year EMEA revenues $ 19839 $ 19450 (2) % EMEA constant currency revenues 22093 11 % APAC revenues 11705 11494 (2) % APAC constant currency revenues 12604 8 % Other Americas revenues 3688 4138 12 % Other Americas constant currency revenues 4303 17 % United States revenues 29824 33372 12 % Hedging gains (losses) 62 638 Total revenues $ 65118 $ 69092 6 % Revenues, excluding hedging effect $ 65056 $ 68454 Exchange rate effect 3918 Total constant currency revenues $ 72372 11 % Comparison from the Quarter Ended June 30, 2022 to the Quarter Ended September 30, 2022 Quarter Ended June 30, 2022 September 30, 2022 % Change from Prior Quarter EMEA revenues $ 20533 $ 19450 (5) % EMEA constant currency revenues 20390 (1) % APAC revenues 11710 11494 (2) % APAC constant currency revenues 11949 2 % Other Americas revenues 4340 4138 (5) % Other Americas constant currency revenues 4290 (1) % United States revenues 32727 33372 2 % Hedging gains (losses) 375 638 Total revenues $ 69685 $ 69092 (1) % Revenues, excluding hedging effect $ 69310 $ 68454 Exchange rate effect 1547 Total constant currency revenues $ 70001 1 % Non-GAAP constant currency revenues and percentage change: We define non-GAAP constant currency revenues as total revenues excluding the effect of foreign exchange rate movements and hedging activities, and we use it to determine the constant currency revenue percentage change on year-on-year and quarter-on-quarter basis. Non-GAAP constant currency revenues are calculated by translating current quarter revenues using prior period exchange rates and excluding any hedging effect recognized in the current quarter.\n",
      "-------------------------------------------------------------------------------\n",
      "Contact Investor relations Media investor-relations@abc.xyz press@abc.xyz 3.\n",
      "-------------------------------------------------------------------------------\n",
      "Other income (expense), net The following table presents our other income (expense), net (in millions; unaudited): Quarter Ended September 30, 2021 2022 Interest income $ 387 $ 615 Interest expense (77) (101) Foreign currency exchange gain (loss), net (139) (136) Gain (loss) on debt securities, net 37 (731) Gain (loss) on equity securities, net(1) 2121 (647) Performance fees (492) 54 Income (loss) and impairment from equity method investments, net 188 (99) Other 8 143 Other income (expense), net $ 2033 $ (902) (1) Includes all gains and losses, unrealized and realized, on equity investments.\n",
      "-------------------------------------------------------------------------------\n",
      "Alphabet Inc. CONSOLIDATED STATEMENTS OF INCOME (In millions, except per share amounts, unaudited) Quarter Ended September 30, Year to Date September 30, 2021 2022 2021 2022 Revenues $ 65118 $ 69092 $ 182312 $ 206788 Costs and expenses: Cost of revenues 27621 31158 77951 90861 Research and development 7694 10273 22854 29233 Sales and marketing 5516 6929 15308 19384 General and administrative 3256 3597 9370 10628 Total costs and expenses 44087 51957 125483 150106 Income from operations 21031 17135 56829 56682 Other income (expense), net 2033 (902) 9503 (2501) Income before income taxes 23064 16233 66332 54181 Provision for income taxes 4128 2323 10941 7833 Net income $ 18936 $ 13910 $ 55391 $ 46348 Basic earnings per share of Class A, Class B, and Class C stock $ 1.42 $ 1.07 $ 4.14 $ 3.53 Diluted earnings per share of Class A, Class B, and Class C stock $ 1.40 $ 1.06 $ 4.08 $ 3.50 Number of shares used in basic earnings per share calculation 13315 13018 13386 13118 Number of shares used in diluted earnings per share calculation 13530 13097 13588 13229 5.\n",
      "-------------------------------------------------------------------------------\n",
      "EMEA revenue percentage change from 2019 to 2020 was not significantly affected by foreign currency exchange rates, primarily due to the US dollar weakening relative to the Euro offset by the US dollar strengthening relative to the Turkish lira and Russian ruble.\n",
      "-------------------------------------------------------------------------------\n",
      "This has led to a trend of increased revenues from international markets over time, as regions with emerging markets, such as APAC, have demonstrated higher revenue growth rates.\n",
      "-------------------------------------------------------------------------------\n",
      "The increase was due to increases in other cost of revenues and TAC of $10147 million and $2689 million, respectively.\n",
      "-------------------------------------------------------------------------------\n",
      "Revenues from the United States, EMEA, APAC, and Other Americas were $85.0 billion, $55.4 billion, $32.6 billion, and $9.4 billion, respectively. z Total cost of revenues was $84.7 billion, an increase of 18% year over year.\n",
      "-------------------------------------------------------------------------------\n",
      "Certain Risks and Concentrations Our revenues are primarily derived from online advertising, the market for which is highly competitive and rapidly changing.\n",
      "-------------------------------------------------------------------------------\n",
      "Total revenues and hedging gains for the quarter ended March 31, 2020 were $41159 million and $49 million, respectively.\n",
      "-------------------------------------------------------------------------------\n",
      "For Q2 2020, the net effect of the gain on equity securities of $1455 million and the performance fees of $75 million increased income tax, net income, and diluted EPS by $290 million, $1090 million, and $1.59, respectively. 9.\n",
      "-------------------------------------------------------------------------------\n",
      "Contact Investor relations Media investor-relations@abc.xyz press@abc.xyz 3.\n",
      "-------------------------------------------------------------------------------\n",
      "We also share Google news and product updates on Google&#39;s Keyword blog at https://www.blog.google/, which may be of interest or material to our investors.\n",
      "-------------------------------------------------------------------------------\n",
      "(4) Reconciling items are primarily related to corporate administrative and other costs that are not allocated to individual segments.\n",
      "-------------------------------------------------------------------------------\n",
      "Quarter Ended December 31, 2020 YoY (using Q4&#39;19&#39;s FX rates) QoQ (using Q3&#39;20&#39;s FX rates) EMEA revenues (GAAP) $ 17238 $ 17238 Exclude foreign exchange effect on Q4&#39;20 revenues using Q4&#39;19 rates (457) N/A Exclude foreign exchange effect on Q4&#39;20 revenues using Q3&#39;20 rates N/A (91) EMEA constant currency revenues (non-GAAP) $ 16781 $ 17147 Prior period EMEA revenues (GAAP) $ 14099 $ 13924 EMEA revenue percentage change (GAAP) 22 % 24 % EMEA constant currency revenue percentage change (non-GAAP) 19 % 23 % APAC revenues (GAAP) $ 9909 $ 9909 Exclude foreign exchange effect on Q4&#39;20 revenues using Q4&#39;19 rates (156) N/A Exclude foreign exchange effect on Q4&#39;20 revenues using Q3&#39;20 rates N/A (109) APAC constant currency revenues (non-GAAP) $ 9753 $ 9800 Prior period APAC revenues (GAAP) $ 7482 $ 8458 APAC revenue percentage change (GAAP) 32 % 17 % APAC constant currency revenue percentage change (non-GAAP) 30 % 16 % Other Americas revenues (GAAP) $ 3050 $ 3050 Exclude foreign exchange effect on Q4&#39;20 revenues using Q4&#39;19 rates 324 N/A Exclude foreign exchange effect on Q4&#39;20 revenues using Q3&#39;20 rates N/A 11 Other Americas constant currency revenues (non-GAAP) $ 3374 $ 3061 Prior period Other Americas revenues (GAAP) $ 2666 $ 2371 Other Americas revenue percentage change (GAAP) 14 % 29 % Other Americas constant currency revenue percentage change (non-GAAP) 27 % 29 % United States revenues (GAAP) $ 26703 $ 26703 United States revenue percentage change (GAAP) 23 % 25 % Hedging gains (losses) $ (2) $ (2) Revenues (GAAP) $ 56898 $ 56898 Constant currency revenues (non-GAAP) $ 56611 $ 56711 Prior period revenues, excluding hedging effect (non-GAAP)(1) $ 45984 $ 46195 Revenue percentage change (GAAP) 23 % 23 % Constant currency revenue percentage change (non-GAAP) 23 % 23 % (1) Total revenues and hedging gains (losses) for the quarter ended December 31, 2019 were $46075 million and $91 million, respectively.\n",
      "-------------------------------------------------------------------------------\n",
      "Quarter Ended December 31, 2019 2020 Revenues $ 46075 $ 56898 Increase in revenues year over year 17 % 23 % Increase in constant currency revenues year over year(1) 19 % 23 % Operating income $ 9266 $ 15651 Operating margin 20 % 28 % Other income (expense), net $ 1438 $ 3038 Net income $ 10671 $ 15227 Diluted EPS $ 15.35 $ 22.30 (1) Non-GAAP measure.\n",
      "-------------------------------------------------------------------------------\n",
      "Contact Investor relations Media investor-relations@abc.xyz press@abc.xyz 3.\n",
      "-------------------------------------------------------------------------------\n",
      "The offsetting recognized gains on the marketable equity securities are reflected in Gain (loss) on equity securities, net.\n",
      "-------------------------------------------------------------------------------\n",
      "Alphabet Inc. CONSOLIDATED STATEMENTS OF INCOME (In millions, except share amounts which are reflected in thousands and per share amounts) Quarter Ended December 31, Year Ended December 31, 2019 2020 2019 2020 (unaudited) (unaudited) Revenues $ 46075 $ 56898 $ 161857 $ 182527 Costs and expenses: Cost of revenues 21020 26080 71896 84732 Research and development 7222 7022 26018 27573 Sales and marketing 5738 5314 18464 17946 General and administrative 2829 2831 9551 11052 European Commission fine 0 0 1697 0 Total costs and expenses 36809 41247 127626 141303 Income from operations 9266 15651 34231 41224 Other income (expense), net 1438 3038 5394 6858 Income before income taxes 10704 18689 39625 48082 Provision for income taxes 33 3462 5282 7813 Net income $ 10671 $ 15227 $ 34343 $ 40269 Basic earnings per share of Class A and B common stock and Class C capital stock $ 15.49 $ 22.54 $ 49.59 $ 59.15 Diluted earnings per share of Class A and B common stock and Class C capital stock $ 15.35 $ 22.30 $ 49.16 $ 58.61 Number of shares used in basic earnings per share calculation 688806 675582 692596 680816 Number of shares used in diluted earnings per share calculation 695194 682969 698556 687028 5.\n",
      "-------------------------------------------------------------------------------\n",
      "Quarter Ended March 31, 2020 YoY (using Q1&#39;19&#39;s FX rates) QoQ (using Q4&#39;19&#39;s FX rates) EMEA revenues (GAAP) $ 12845 $ 12845 Exclude foreign exchange effect on Q1&#39;20 revenues using Q1&#39;19 rates 235 N/A Exclude foreign exchange effect on Q1&#39;20 revenues using Q4&#39;19 rates N/A (63) EMEA constant currency revenues (non-GAAP) $ 13080 $ 12782 Prior period EMEA revenues (GAAP) $ 11668 $ 14099 EMEA revenue growth (GAAP) 10 % (9)% EMEA constant currency revenue growth (non-GAAP) 12 % (9)% APAC revenues (GAAP) $ 7238 $ 7238 Exclude foreign exchange effect on Q1&#39;20 revenues using Q1&#39;19 rates 61 N/A Exclude foreign exchange effect on Q1&#39;20 revenues using Q4&#39;19 rates N/A 37 APAC constant currency revenues (non-GAAP) $ 7299 $ 7275 Prior period APAC revenues (GAAP) $ 6096 $ 7482 APAC revenue growth (GAAP) 19 % (3)% APAC constant currency revenue growth (non-GAAP) 20 % (3)% Other Americas revenues (GAAP) $ 2157 $ 2157 Exclude foreign exchange effect on Q1&#39;20 revenues using Q1&#39;19 rates 96 N/A Exclude foreign exchange effect on Q1&#39;20 revenues using Q4&#39;19 rates N/A 14 Other Americas constant currency revenues (non-GAAP) $ 2253 $ 2171 Prior period Other Americas revenues (GAAP) $ 1906 $ 2666 Other Americas revenue growth (GAAP) 13 % (19)% Other Americas constant currency revenue growth (non-GAAP) 18 % (19)% United States revenues (GAAP) $ 18870 $ 18870 United States revenue growth (GAAP) 14 % (13)% Hedging gains $ 49 $ 49 Revenues (GAAP) $ 41159 $ 41159 Constant currency revenues (non-GAAP) $ 41502 $ 41098 Prior period revenues, excluding hedging effect (non-GAAP)(1) $ 36202 $ 45984 Revenue growth (GAAP) 13 % (11)% Constant currency revenue growth (non-GAAP) 15 % (11)% (1) Total revenues and hedging gains for the quarter ended March 31, 2019 were $36339 million and $137 million, respectively.\n",
      "-------------------------------------------------------------------------------\n",
      "For Q1 2020, the net effect of the loss on equity securities of $814 million and the performance fees reversal of $6 million decreased income tax, net income, and diluted EPS by $170 million, $638 million, and $0.92, respectively. 9.\n",
      "-------------------------------------------------------------------------------\n",
      "Hedging gains, which were previously included in Google revenues, are presented separately.\n",
      "-------------------------------------------------------------------------------\n",
      "Contact Investor relations Media investor-relations@abc.xyz press@abc.xyz 3.\n",
      "-------------------------------------------------------------------------------\n",
      "(3) For purposes of segment reporting, SBC represents awards that we expect to settle in Alphabet stock. (4) Reconciling items are primarily related to corporate administrative and other costs that are not allocated to individual segments.\n",
      "-------------------------------------------------------------------------------\n",
      "Quarter Ended September 30, 2020 YoY (using Q3&#39;19&#39;s FX rates) QoQ (using Q2&#39;20&#39;s FX rates) EMEA revenues (GAAP) $ 13924 $ 13924 Exclude foreign exchange effect on Q3&#39;20 revenues using Q3&#39;19 rates (250) N/A Exclude foreign exchange effect on Q3&#39;20 revenues using Q2&#39;20 rates N/A (605) EMEA constant currency revenues (non-GAAP) $ 13674 $ 13319 Prior period EMEA revenues (GAAP) $ 12565 $ 11363 EMEA revenue percentage change (GAAP) 11 % 23 % EMEA constant currency revenue percentage change (non-GAAP) 9 % 17 % APAC revenues (GAAP) $ 8458 $ 8458 Exclude foreign exchange effect on Q3&#39;20 revenues using Q3&#39;19 rates 1 N/A Exclude foreign exchange effect on Q3&#39;20 revenues using Q2&#39;20 rates N/A (180) APAC constant currency revenues (non-GAAP) $ 8459 $ 8278 Prior period APAC revenues (GAAP) $ 6814 $ 6945 APAC revenue percentage change (GAAP) 24 % 22 % APAC constant currency revenue percentage change (non-GAAP) 24 % 19 % Other Americas revenues (GAAP) $ 2371 $ 2371 Exclude foreign exchange effect on Q3&#39;20 revenues using Q3&#39;19 rates 304 N/A Exclude foreign exchange effect on Q3&#39;20 revenues using Q2&#39;20 rates N/A (35) Other Americas constant currency revenues (non-GAAP) $ 2675 $ 2336 Prior period Other Americas revenues (GAAP) $ 2290 $ 1839 Other Americas revenue percentage change (GAAP) 4 % 29 % Other Americas constant currency revenue percentage change (non-GAAP) 17 % 27 % United States revenues (GAAP) $ 21442 $ 21442 United States revenue percentage change (GAAP) 15 % 19 % Hedging gains (losses) $ (22) $ (22) Revenues (GAAP) $ 46173 $ 46173 Constant currency revenues (non-GAAP) $ 46250 $ 45375 Prior period revenues, excluding hedging effect (non-GAAP)(1) $ 40380 $ 38146 Revenue percentage change (GAAP) 14 % 21 % Constant currency revenue percentage change (non-GAAP) 15 % 19 % (1) Total revenues and hedging gains (losses) for the quarter ended September 30, 2019 were $40499 million and $119 million, respectively.\n",
      "-------------------------------------------------------------------------------\n",
      "For Q3 2020, the net effect of the gain on equity securities of $1899 million and the performance fees of $135 million increased the provision for income tax, net income, and diluted EPS by $370 million, $1394 million, and $2.03, respectively. 9.\n",
      "-------------------------------------------------------------------------------\n",
      "Undue reliance should not be placed on the forward-looking statements in 2.\n",
      "-------------------------------------------------------------------------------\n",
      "Alphabet Inc. CONSOLIDATED STATEMENTS OF INCOME (In millions, except share amounts which are reflected in thousands and per share amounts; unaudited) Quarter Ended September 30, Year to Date September 30, 2019 2020 2019 2020 Revenues $ 40499 $ 46173 $ 115782 $ 125629 Costs and expenses: Cost of revenues 17568 21117 50876 58652 Research and development 6554 6856 18796 20551 Sales and marketing 4609 4231 12726 12632 General and administrative 2591 2756 6722 8221 European Commission fines 0 0 1697 0 Total costs and expenses 31322 34960 90817 100056 Income from operations 9177 11213 24965 25573 Other income (expense), net (549) 2146 3956 3820 Income before income taxes 8628 13359 28921 29393 Provision for income taxes 1560 2112 5249 4351 Net income $ 7068 $ 11247 $ 23672 $ 25042 Basic earnings per share of Class A and B common stock and Class C capital stock $ 10.20 $ 16.55 $ 34.12 $ 36.69 Diluted earnings per share of Class A and B common stock and Class C capital stock $ 10.12 $ 16.40 $ 33.83 $ 36.38 Number of shares used in basic earnings per share calculation 692741 679449 693860 682561 Number of shares used in diluted earnings per share calculation 698199 685851 699677 688381 5.\n",
      "-------------------------------------------------------------------------------\n",
      "Contact Investor relations Media investor-relations@abc.xyz press@abc.xyz 3.\n"
     ]
    }
   ],
   "source": [
    "search_query = \"Were 2020 EMEA revenues higher than 2020 APAC revenues?\"\n",
    "\n",
    "results = qa_chain.invoke(search_query)\n",
    "\n",
    "print(\"*\" * 79)\n",
    "print(results[\"result\"])\n",
    "print(\"*\" * 79)\n",
    "for doc in results[\"source_documents\"]:\n",
    "    print(\"-\" * 79)\n",
    "    print(doc.page_content)"
   ]
  }
 ],
 "metadata": {
  "environment": {
   "kernel": "python3",
   "name": ".m124",
   "type": "gcloud",
   "uri": "us-docker.pkg.dev/deeplearning-platform-release/gcr.io/:m124"
  },
  "kernelspec": {
   "display_name": "Python 3 (ipykernel) (Local)",
   "language": "python",
   "name": "python3"
  },
  "language_info": {
   "codemirror_mode": {
    "name": "ipython",
    "version": 3
   },
   "file_extension": ".py",
   "mimetype": "text/x-python",
   "name": "python",
   "nbconvert_exporter": "python",
   "pygments_lexer": "ipython3",
   "version": "3.10.14"
  }
 },
 "nbformat": 4,
 "nbformat_minor": 5
}
