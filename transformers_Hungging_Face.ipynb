{
  "nbformat": 4,
  "nbformat_minor": 0,
  "metadata": {
    "colab": {
      "provenance": []
    },
    "kernelspec": {
      "name": "python3",
      "display_name": "Python 3"
    },
    "language_info": {
      "name": "python"
    },
    "widgets": {
      "application/vnd.jupyter.widget-state+json": {
        "3d23124bfc5340ad8e8e19c08333bbc5": {
          "model_module": "@jupyter-widgets/controls",
          "model_name": "HBoxModel",
          "model_module_version": "1.5.0",
          "state": {
            "_dom_classes": [],
            "_model_module": "@jupyter-widgets/controls",
            "_model_module_version": "1.5.0",
            "_model_name": "HBoxModel",
            "_view_count": null,
            "_view_module": "@jupyter-widgets/controls",
            "_view_module_version": "1.5.0",
            "_view_name": "HBoxView",
            "box_style": "",
            "children": [
              "IPY_MODEL_77fd6bcd1e5341989c8da11c04be444a",
              "IPY_MODEL_d77994726a80425fbf3dd889a9d08aef",
              "IPY_MODEL_0ea7b35af3294a0cbd9c1bd60c838db7"
            ],
            "layout": "IPY_MODEL_f998b6d9a8c746cfa42e29a6533d97c0"
          }
        },
        "77fd6bcd1e5341989c8da11c04be444a": {
          "model_module": "@jupyter-widgets/controls",
          "model_name": "HTMLModel",
          "model_module_version": "1.5.0",
          "state": {
            "_dom_classes": [],
            "_model_module": "@jupyter-widgets/controls",
            "_model_module_version": "1.5.0",
            "_model_name": "HTMLModel",
            "_view_count": null,
            "_view_module": "@jupyter-widgets/controls",
            "_view_module_version": "1.5.0",
            "_view_name": "HTMLView",
            "description": "",
            "description_tooltip": null,
            "layout": "IPY_MODEL_e1542947fc214bcda9481cdba4c3d588",
            "placeholder": "​",
            "style": "IPY_MODEL_c0a73af37279483b8543bf659b99f1d4",
            "value": "generation_config.json: 100%"
          }
        },
        "d77994726a80425fbf3dd889a9d08aef": {
          "model_module": "@jupyter-widgets/controls",
          "model_name": "FloatProgressModel",
          "model_module_version": "1.5.0",
          "state": {
            "_dom_classes": [],
            "_model_module": "@jupyter-widgets/controls",
            "_model_module_version": "1.5.0",
            "_model_name": "FloatProgressModel",
            "_view_count": null,
            "_view_module": "@jupyter-widgets/controls",
            "_view_module_version": "1.5.0",
            "_view_name": "ProgressView",
            "bar_style": "success",
            "description": "",
            "description_tooltip": null,
            "layout": "IPY_MODEL_7db9ba2017d14edeaa82006f4db09b25",
            "max": 147,
            "min": 0,
            "orientation": "horizontal",
            "style": "IPY_MODEL_7156445c89e74552acf62528e64bd873",
            "value": 147
          }
        },
        "0ea7b35af3294a0cbd9c1bd60c838db7": {
          "model_module": "@jupyter-widgets/controls",
          "model_name": "HTMLModel",
          "model_module_version": "1.5.0",
          "state": {
            "_dom_classes": [],
            "_model_module": "@jupyter-widgets/controls",
            "_model_module_version": "1.5.0",
            "_model_name": "HTMLModel",
            "_view_count": null,
            "_view_module": "@jupyter-widgets/controls",
            "_view_module_version": "1.5.0",
            "_view_name": "HTMLView",
            "description": "",
            "description_tooltip": null,
            "layout": "IPY_MODEL_303da64900a5493d8ad16836ceb8bf0e",
            "placeholder": "​",
            "style": "IPY_MODEL_ee3a8f6a3f44489ba65f8f13539a0a13",
            "value": " 147/147 [00:00&lt;00:00, 2.49kB/s]"
          }
        },
        "f998b6d9a8c746cfa42e29a6533d97c0": {
          "model_module": "@jupyter-widgets/base",
          "model_name": "LayoutModel",
          "model_module_version": "1.2.0",
          "state": {
            "_model_module": "@jupyter-widgets/base",
            "_model_module_version": "1.2.0",
            "_model_name": "LayoutModel",
            "_view_count": null,
            "_view_module": "@jupyter-widgets/base",
            "_view_module_version": "1.2.0",
            "_view_name": "LayoutView",
            "align_content": null,
            "align_items": null,
            "align_self": null,
            "border": null,
            "bottom": null,
            "display": null,
            "flex": null,
            "flex_flow": null,
            "grid_area": null,
            "grid_auto_columns": null,
            "grid_auto_flow": null,
            "grid_auto_rows": null,
            "grid_column": null,
            "grid_gap": null,
            "grid_row": null,
            "grid_template_areas": null,
            "grid_template_columns": null,
            "grid_template_rows": null,
            "height": null,
            "justify_content": null,
            "justify_items": null,
            "left": null,
            "margin": null,
            "max_height": null,
            "max_width": null,
            "min_height": null,
            "min_width": null,
            "object_fit": null,
            "object_position": null,
            "order": null,
            "overflow": null,
            "overflow_x": null,
            "overflow_y": null,
            "padding": null,
            "right": null,
            "top": null,
            "visibility": null,
            "width": null
          }
        },
        "e1542947fc214bcda9481cdba4c3d588": {
          "model_module": "@jupyter-widgets/base",
          "model_name": "LayoutModel",
          "model_module_version": "1.2.0",
          "state": {
            "_model_module": "@jupyter-widgets/base",
            "_model_module_version": "1.2.0",
            "_model_name": "LayoutModel",
            "_view_count": null,
            "_view_module": "@jupyter-widgets/base",
            "_view_module_version": "1.2.0",
            "_view_name": "LayoutView",
            "align_content": null,
            "align_items": null,
            "align_self": null,
            "border": null,
            "bottom": null,
            "display": null,
            "flex": null,
            "flex_flow": null,
            "grid_area": null,
            "grid_auto_columns": null,
            "grid_auto_flow": null,
            "grid_auto_rows": null,
            "grid_column": null,
            "grid_gap": null,
            "grid_row": null,
            "grid_template_areas": null,
            "grid_template_columns": null,
            "grid_template_rows": null,
            "height": null,
            "justify_content": null,
            "justify_items": null,
            "left": null,
            "margin": null,
            "max_height": null,
            "max_width": null,
            "min_height": null,
            "min_width": null,
            "object_fit": null,
            "object_position": null,
            "order": null,
            "overflow": null,
            "overflow_x": null,
            "overflow_y": null,
            "padding": null,
            "right": null,
            "top": null,
            "visibility": null,
            "width": null
          }
        },
        "c0a73af37279483b8543bf659b99f1d4": {
          "model_module": "@jupyter-widgets/controls",
          "model_name": "DescriptionStyleModel",
          "model_module_version": "1.5.0",
          "state": {
            "_model_module": "@jupyter-widgets/controls",
            "_model_module_version": "1.5.0",
            "_model_name": "DescriptionStyleModel",
            "_view_count": null,
            "_view_module": "@jupyter-widgets/base",
            "_view_module_version": "1.2.0",
            "_view_name": "StyleView",
            "description_width": ""
          }
        },
        "7db9ba2017d14edeaa82006f4db09b25": {
          "model_module": "@jupyter-widgets/base",
          "model_name": "LayoutModel",
          "model_module_version": "1.2.0",
          "state": {
            "_model_module": "@jupyter-widgets/base",
            "_model_module_version": "1.2.0",
            "_model_name": "LayoutModel",
            "_view_count": null,
            "_view_module": "@jupyter-widgets/base",
            "_view_module_version": "1.2.0",
            "_view_name": "LayoutView",
            "align_content": null,
            "align_items": null,
            "align_self": null,
            "border": null,
            "bottom": null,
            "display": null,
            "flex": null,
            "flex_flow": null,
            "grid_area": null,
            "grid_auto_columns": null,
            "grid_auto_flow": null,
            "grid_auto_rows": null,
            "grid_column": null,
            "grid_gap": null,
            "grid_row": null,
            "grid_template_areas": null,
            "grid_template_columns": null,
            "grid_template_rows": null,
            "height": null,
            "justify_content": null,
            "justify_items": null,
            "left": null,
            "margin": null,
            "max_height": null,
            "max_width": null,
            "min_height": null,
            "min_width": null,
            "object_fit": null,
            "object_position": null,
            "order": null,
            "overflow": null,
            "overflow_x": null,
            "overflow_y": null,
            "padding": null,
            "right": null,
            "top": null,
            "visibility": null,
            "width": null
          }
        },
        "7156445c89e74552acf62528e64bd873": {
          "model_module": "@jupyter-widgets/controls",
          "model_name": "ProgressStyleModel",
          "model_module_version": "1.5.0",
          "state": {
            "_model_module": "@jupyter-widgets/controls",
            "_model_module_version": "1.5.0",
            "_model_name": "ProgressStyleModel",
            "_view_count": null,
            "_view_module": "@jupyter-widgets/base",
            "_view_module_version": "1.2.0",
            "_view_name": "StyleView",
            "bar_color": null,
            "description_width": ""
          }
        },
        "303da64900a5493d8ad16836ceb8bf0e": {
          "model_module": "@jupyter-widgets/base",
          "model_name": "LayoutModel",
          "model_module_version": "1.2.0",
          "state": {
            "_model_module": "@jupyter-widgets/base",
            "_model_module_version": "1.2.0",
            "_model_name": "LayoutModel",
            "_view_count": null,
            "_view_module": "@jupyter-widgets/base",
            "_view_module_version": "1.2.0",
            "_view_name": "LayoutView",
            "align_content": null,
            "align_items": null,
            "align_self": null,
            "border": null,
            "bottom": null,
            "display": null,
            "flex": null,
            "flex_flow": null,
            "grid_area": null,
            "grid_auto_columns": null,
            "grid_auto_flow": null,
            "grid_auto_rows": null,
            "grid_column": null,
            "grid_gap": null,
            "grid_row": null,
            "grid_template_areas": null,
            "grid_template_columns": null,
            "grid_template_rows": null,
            "height": null,
            "justify_content": null,
            "justify_items": null,
            "left": null,
            "margin": null,
            "max_height": null,
            "max_width": null,
            "min_height": null,
            "min_width": null,
            "object_fit": null,
            "object_position": null,
            "order": null,
            "overflow": null,
            "overflow_x": null,
            "overflow_y": null,
            "padding": null,
            "right": null,
            "top": null,
            "visibility": null,
            "width": null
          }
        },
        "ee3a8f6a3f44489ba65f8f13539a0a13": {
          "model_module": "@jupyter-widgets/controls",
          "model_name": "DescriptionStyleModel",
          "model_module_version": "1.5.0",
          "state": {
            "_model_module": "@jupyter-widgets/controls",
            "_model_module_version": "1.5.0",
            "_model_name": "DescriptionStyleModel",
            "_view_count": null,
            "_view_module": "@jupyter-widgets/base",
            "_view_module_version": "1.2.0",
            "_view_name": "StyleView",
            "description_width": ""
          }
        }
      }
    }
  },
  "cells": [
    {
      "cell_type": "markdown",
      "source": [
        "# Transformers\n",
        "A Transformer is a deep learning model used in NLP trainning. it uses self attention mechanism, which allows the model to assign importance to different words in a sentence, enhancing context understanding compared to previous models like RNN\n",
        "In this notebook, I use T5 (Text-to-text Transfer transformer).\n",
        "T5, developed by Google Research, treats every NLP task as text-to-text problem, meaning both the input and output are text strings. T5 can use for translation task and summarization task.\n",
        "T5 has been pre-trainned on a large corpus of text and can be fine-tuned for specific task, making it highly versatile and effective across different NLP applications. T5 is available in huggingface\n",
        "\n",
        "model page: https://huggingface.co/google-t5/t5-small\n",
        "\n"
      ],
      "metadata": {
        "id": "2xNz7_-o88QR"
      }
    },
    {
      "cell_type": "code",
      "execution_count": 5,
      "metadata": {
        "id": "vwyvjgDy83yH"
      },
      "outputs": [],
      "source": [
        "from transformers import T5Tokenizer,T5Model, T5ForConditionalGeneration"
      ]
    },
    {
      "cell_type": "code",
      "source": [
        "import tensorflow as tf\n",
        "print(\"TensorFlow version:\", tf.__version__)\n",
        "\n",
        "import keras\n",
        "print(\"Keras version:\", keras.__version__)"
      ],
      "metadata": {
        "colab": {
          "base_uri": "https://localhost:8080/"
        },
        "id": "kkZCi5fb9D5B",
        "outputId": "fff6478d-2aae-41f3-c69a-031537f0b051"
      },
      "execution_count": 2,
      "outputs": [
        {
          "output_type": "stream",
          "name": "stdout",
          "text": [
            "TensorFlow version: 2.17.0\n",
            "Keras version: 3.4.1\n"
          ]
        }
      ]
    },
    {
      "cell_type": "code",
      "source": [
        "tokenizer = T5Tokenizer.from_pretrained(\"t5-small\")\n",
        "model = T5ForConditionalGeneration.from_pretrained(\"t5-small\")"
      ],
      "metadata": {
        "id": "H0ZqvcK79GzP",
        "colab": {
          "base_uri": "https://localhost:8080/",
          "height": 66,
          "referenced_widgets": [
            "3d23124bfc5340ad8e8e19c08333bbc5",
            "77fd6bcd1e5341989c8da11c04be444a",
            "d77994726a80425fbf3dd889a9d08aef",
            "0ea7b35af3294a0cbd9c1bd60c838db7",
            "f998b6d9a8c746cfa42e29a6533d97c0",
            "e1542947fc214bcda9481cdba4c3d588",
            "c0a73af37279483b8543bf659b99f1d4",
            "7db9ba2017d14edeaa82006f4db09b25",
            "7156445c89e74552acf62528e64bd873",
            "303da64900a5493d8ad16836ceb8bf0e",
            "ee3a8f6a3f44489ba65f8f13539a0a13"
          ]
        },
        "outputId": "2704c275-c09d-44a1-d0a4-ab3f778ac4f1"
      },
      "execution_count": 21,
      "outputs": [
        {
          "output_type": "stream",
          "name": "stderr",
          "text": [
            "Special tokens have been added in the vocabulary, make sure the associated word embeddings are fine-tuned or trained.\n"
          ]
        },
        {
          "output_type": "display_data",
          "data": {
            "text/plain": [
              "generation_config.json:   0%|          | 0.00/147 [00:00<?, ?B/s]"
            ],
            "application/vnd.jupyter.widget-view+json": {
              "version_major": 2,
              "version_minor": 0,
              "model_id": "3d23124bfc5340ad8e8e19c08333bbc5"
            }
          },
          "metadata": {}
        }
      ]
    },
    {
      "cell_type": "code",
      "source": [
        "\n",
        "text = '''The giant planets (Jupiter, Saturn, Uranus, and Neptune) formed further out, beyond the frost line,\n",
        "the point between the orbits of Mars and Jupiter where material is cool enough for volatile icy compounds to remain solid.\n",
        "The ices that formed these planets were more plentiful than the metals and silicates that formed the terrestrial inner planets,\n",
        "allowing them to grow massive enough to capture large atmospheres of hydrogen and helium, the lightest and most abundant elements.[20]\n",
        "Leftover debris that never became planets congregated in regions such as the asteroid belt, Kuiper belt, and Oort cloud'''\n"
      ],
      "metadata": {
        "id": "H5IDmeq7NP4H"
      },
      "execution_count": 22,
      "outputs": []
    },
    {
      "cell_type": "code",
      "source": [
        "# tokenizer in pt (pytorch)\n",
        "inputs = tokenizer.encode(text, return_tensors=\"pt\", max_length=512, truncation=True)\n",
        "print(inputs)"
      ],
      "metadata": {
        "colab": {
          "base_uri": "https://localhost:8080/"
        },
        "id": "6M5UXcOfO-3_",
        "outputId": "e83e5368-ba99-4763-aea3-4c5d026bcc97"
      },
      "execution_count": 25,
      "outputs": [
        {
          "output_type": "stream",
          "name": "stdout",
          "text": [
            "tensor([[   37,  6079,  4345,     7,    41,   683,   413,   155,    49,     6,\n",
            "         24037,     6,  4575,   152,   302,     6,    11,   445,  6707,   444,\n",
            "            61,  5147,   856,    91,     6,  1909,     8,  2515,  3481,   689,\n",
            "             6,     8,   500,   344,     8, 15607,     7,    13, 11856,    11,\n",
            "         24308,   213,  1037,    19,  1633,   631,    21, 25359,     3, 17686,\n",
            "         18042,    12,  2367,  1973,     5,    37,     3,   867,     7,    24,\n",
            "          5147,   175,  4345,     7,   130,    72, 30133,   145,     8,  1946,\n",
            "             7,    11,   108, 26221,     7,    24,  5147,     8, 31882,  4723,\n",
            "          4345,     7,     6,     3,  3232,   135,    12,  1604,  3805,   631,\n",
            "            12,  4105,   508,  4643,     7,    13, 20913,    11,     3, 17801,\n",
            "           440,     6,     8,   659,   222,    11,   167, 16346,  2479,     5,\n",
            "          6306,  1755,   908, 14298,  1890, 12544,    24,   470,  1632,  4345,\n",
            "             7,   975, 18301,   920,    16,  6266,   224,    38,     8,     3,\n",
            "          8323,  8184,  6782,     6,  3695,    23,   883,  6782,     6,    11,\n",
            "           411,   127,    17,  3126,     1]])\n"
          ]
        }
      ]
    },
    {
      "cell_type": "code",
      "source": [
        "summary = model.generate(\n",
        "        inputs,\n",
        "        max_length=200,\n",
        "        min_length=25,\n",
        "        length_penalty=2.0,\n",
        "        num_beams=10,\n",
        "        num_return_sequences=3,\n",
        "        early_stopping=True\n",
        "    )\n",
        "summary_text = tokenizer.decode(summary[0], skip_special_tokens=True)\n",
        "print(summary_text)"
      ],
      "metadata": {
        "colab": {
          "base_uri": "https://localhost:8080/"
        },
        "id": "jghaKWBqPrSH",
        "outputId": "31bf7c83-e1c2-4db7-d3c2-7ef67255a11a"
      },
      "execution_count": 31,
      "outputs": [
        {
          "output_type": "stream",
          "name": "stdout",
          "text": [
            "s (Jupiter, Saturn, Uranus, and Neptune) formed further out, beyond the frost line, the point between the orbits of Mars and Jupiter.[20] Leftover debris that never became planets congregated in regions such as the asteroid belt, Kuiper belt, and Oort cloud.[20] Leftover debris that never became planets congregated in regions such as the asteroid belt, Kuiper belt, and Oort cloud.\n"
          ]
        }
      ]
    }
  ]
}