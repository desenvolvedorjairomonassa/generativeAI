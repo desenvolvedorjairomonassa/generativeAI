{
  "nbformat": 4,
  "nbformat_minor": 0,
  "metadata": {
    "colab": {
      "provenance": []
    },
    "kernelspec": {
      "name": "python3",
      "display_name": "Python 3"
    },
    "language_info": {
      "name": "python"
    }
  },
  "cells": [
    {
      "cell_type": "markdown",
      "source": [
        "# Text generator using gp2\n",
        "## Pretrained model on English language using a causal language modeling (CLM) objective"
      ],
      "metadata": {
        "id": "vu53wx-ZyB89"
      }
    },
    {
      "cell_type": "code",
      "source": [
        "import transformers\n",
        "from transformers import pipeline, set_seed"
      ],
      "metadata": {
        "id": "msdNJMNhyCLZ"
      },
      "execution_count": 11,
      "outputs": []
    },
    {
      "cell_type": "code",
      "source": [
        "generator = pipeline('text-generation', model='gpt2')\n",
        "set_seed(42)"
      ],
      "metadata": {
        "id": "le0HyLIm7b2d"
      },
      "execution_count": 12,
      "outputs": []
    },
    {
      "cell_type": "code",
      "source": [
        "# num_return_sequences correspond number of result\n",
        "text = \"Compose an email for my CEO to schedule a meeting to showcase the innovative product\"\n",
        "sequence = generator(text_inputs=text,\n",
        "            max_length=80,\n",
        "            do_sample=True,\n",
        "            temperature=0.9,\n",
        "            top_p=0.85,\n",
        "            top_k=50,\n",
        "            num_return_sequences=3)"
      ],
      "metadata": {
        "colab": {
          "base_uri": "https://localhost:8080/"
        },
        "id": "EbczIsPeAJxE",
        "outputId": "e29b3dfe-ec1b-4fbe-f5ab-84e0f9c84771"
      },
      "execution_count": 23,
      "outputs": [
        {
          "output_type": "stream",
          "name": "stderr",
          "text": [
            "Setting `pad_token_id` to `eos_token_id`:50256 for open-end generation.\n"
          ]
        }
      ]
    },
    {
      "cell_type": "code",
      "source": [
        "for seq in sequence:\n",
        "    print(seq['generated_text'],'\\n','---------')"
      ],
      "metadata": {
        "colab": {
          "base_uri": "https://localhost:8080/"
        },
        "id": "Ed6p9KI6BBNx",
        "outputId": "c0f98b20-67f5-4273-a83b-d17987690265"
      },
      "execution_count": 24,
      "outputs": [
        {
          "output_type": "stream",
          "name": "stdout",
          "text": [
            "Compose an email for my CEO to schedule a meeting to showcase the innovative product. I will include you in my list of potential leaders.\n",
            "\n",
            "Email\n",
            "\n",
            "In addition to a short email, I will include an email address for my CEO. The meeting is not needed for this but you may send me a short email and I will include you.\n",
            "\n",
            "Meetings\n",
            "\n",
            "Meetings are \n",
            " ---------\n",
            "Compose an email for my CEO to schedule a meeting to showcase the innovative product you've created.\n",
            "\n",
            "Make sure that I'm aware of the business requirements. I'm not looking for a \"perfect customer\" or \"perfect customer service\" when we create these products. We're looking for a customer who is ready to take the lead on our innovation.\n",
            "\n",
            "Don't waste time worrying about \n",
            " ---------\n",
            "Compose an email for my CEO to schedule a meeting to showcase the innovative product and process we have in place. In addition to the above, please note that the team is working hard to improve the service to meet customers and our customers will receive an email as soon as possible. We also want to let you know that your support is always appreciated! If you are interested in working with us in your \n",
            " ---------\n"
          ]
        }
      ]
    }
  ]
}